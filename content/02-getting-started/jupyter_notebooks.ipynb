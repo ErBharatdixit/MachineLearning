{
  "cells": [
    {
      "cell_type": "code",
      "source": [
        "!pip install nltk"
      ],
      "metadata": {
        "colab": {
          "base_uri": "https://localhost:8080/"
        },
        "id": "wsLkVH6hw4eD",
        "outputId": "5d8ce13a-a02f-43f3-d488-b56d5823285e"
      },
      "execution_count": 2,
      "outputs": [
        {
          "output_type": "stream",
          "name": "stdout",
          "text": [
            "Requirement already satisfied: nltk in /usr/local/lib/python3.12/dist-packages (3.9.1)\n",
            "Requirement already satisfied: click in /usr/local/lib/python3.12/dist-packages (from nltk) (8.2.1)\n",
            "Requirement already satisfied: joblib in /usr/local/lib/python3.12/dist-packages (from nltk) (1.5.2)\n",
            "Requirement already satisfied: regex>=2021.8.3 in /usr/local/lib/python3.12/dist-packages (from nltk) (2024.11.6)\n",
            "Requirement already satisfied: tqdm in /usr/local/lib/python3.12/dist-packages (from nltk) (4.67.1)\n"
          ]
        }
      ]
    },
    {
      "cell_type": "code",
      "source": [
        "paragraph='''\n",
        "\n",
        " Merck & Co., Inc. is an American multinational pharmaceutical company headquartered in Rahway, New Jersey. The company does business as Merck Sharp & Dohme or MSD outside the United States and Canada. The company is ranked fourth on the list of largest biomedical companies by revenue.\n",
        "\n",
        "The company's revenues are primarily from cancer treatments, vaccines, and animal health products. In 2024, 46% of the company's revenue, or $29.5 billion, came from sales of Keytruda (pembrolizumab), a PD-1 inhibitor used to treat various types of cancers, and 13% of the company's revenue, or $8.6 billion, came from sales of Gardasil, an HPV vaccine.[1] In addition, 9% of the company's revenue, or $5.8 billion, came from the sales of animal health products.[1]\n",
        "\n",
        "The company is ranked 65th on the Fortune 500[2] and 76th on the Forbes Global 2000.[3]\n",
        "\n",
        "In 1891, Merck & Co. was established as the American affiliate of Merck Group, founded by the Merck family, and the companies are still in trademark disputes in several countries over the right to use th\n",
        "\n",
        "\n",
        "'''"
      ],
      "metadata": {
        "id": "V7KXh1amyIsl"
      },
      "execution_count": 4,
      "outputs": []
    },
    {
      "cell_type": "code",
      "source": [
        "paragraph"
      ],
      "metadata": {
        "colab": {
          "base_uri": "https://localhost:8080/",
          "height": 139
        },
        "id": "FOJCe-HRzwmw",
        "outputId": "73449de6-4613-40a1-8990-7b6537d8d970"
      },
      "execution_count": 5,
      "outputs": [
        {
          "output_type": "execute_result",
          "data": {
            "text/plain": [
              "\"\\n\\n Merck & Co., Inc. is an American multinational pharmaceutical company headquartered in Rahway, New Jersey. The company does business as Merck Sharp & Dohme or MSD outside the United States and Canada. The company is ranked fourth on the list of largest biomedical companies by revenue.\\n\\nThe company's revenues are primarily from cancer treatments, vaccines, and animal health products. In 2024, 46% of the company's revenue, or $29.5 billion, came from sales of Keytruda (pembrolizumab), a PD-1 inhibitor used to treat various types of cancers, and 13% of the company's revenue, or $8.6 billion, came from sales of Gardasil, an HPV vaccine.[1] In addition, 9% of the company's revenue, or $5.8 billion, came from the sales of animal health products.[1]\\n\\nThe company is ranked 65th on the Fortune 500[2] and 76th on the Forbes Global 2000.[3]\\n\\nIn 1891, Merck & Co. was established as the American affiliate of Merck Group, founded by the Merck family, and the companies are still in trademark disputes in several countries over the right to use th\\n\\n\\n\""
            ],
            "application/vnd.google.colaboratory.intrinsic+json": {
              "type": "string"
            }
          },
          "metadata": {},
          "execution_count": 5
        }
      ]
    },
    {
      "cell_type": "code",
      "source": [
        "import nltk\n",
        "from nltk.stem import PorterStemmer\n",
        "from nltk.corpus import stopwords"
      ],
      "metadata": {
        "id": "PL6Itoxlz7NG"
      },
      "execution_count": 6,
      "outputs": []
    },
    {
      "cell_type": "code",
      "source": [
        "## tokenization -- convert paragraph-sentences-words\n",
        "nltk.download('punkt_tab')\n",
        "sentences = nltk.sent_tokenize(paragraph)"
      ],
      "metadata": {
        "colab": {
          "base_uri": "https://localhost:8080/"
        },
        "id": "hJpUYXRz0Poc",
        "outputId": "16cac180-a6f3-4005-c996-57a219a5eda7"
      },
      "execution_count": 8,
      "outputs": [
        {
          "output_type": "stream",
          "name": "stderr",
          "text": [
            "[nltk_data] Downloading package punkt_tab to /root/nltk_data...\n",
            "[nltk_data]   Unzipping tokenizers/punkt_tab.zip.\n"
          ]
        }
      ]
    },
    {
      "cell_type": "code",
      "source": [
        "sentences"
      ],
      "metadata": {
        "colab": {
          "base_uri": "https://localhost:8080/"
        },
        "id": "2yfq2TZq1NF4",
        "outputId": "f106ab3e-9091-439a-fe5b-e37a4c227403"
      },
      "execution_count": 9,
      "outputs": [
        {
          "output_type": "execute_result",
          "data": {
            "text/plain": [
              "['\\n\\n Merck & Co., Inc. is an American multinational pharmaceutical company headquartered in Rahway, New Jersey.',\n",
              " 'The company does business as Merck Sharp & Dohme or MSD outside the United States and Canada.',\n",
              " 'The company is ranked fourth on the list of largest biomedical companies by revenue.',\n",
              " \"The company's revenues are primarily from cancer treatments, vaccines, and animal health products.\",\n",
              " \"In 2024, 46% of the company's revenue, or $29.5 billion, came from sales of Keytruda (pembrolizumab), a PD-1 inhibitor used to treat various types of cancers, and 13% of the company's revenue, or $8.6 billion, came from sales of Gardasil, an HPV vaccine.\",\n",
              " \"[1] In addition, 9% of the company's revenue, or $5.8 billion, came from the sales of animal health products.\",\n",
              " '[1]\\n\\nThe company is ranked 65th on the Fortune 500[2] and 76th on the Forbes Global 2000.',\n",
              " '[3]\\n\\nIn 1891, Merck & Co. was established as the American affiliate of Merck Group, founded by the Merck family, and the companies are still in trademark disputes in several countries over the right to use th']"
            ]
          },
          "metadata": {},
          "execution_count": 9
        }
      ]
    },
    {
      "cell_type": "code",
      "source": [
        "sentences[0]"
      ],
      "metadata": {
        "colab": {
          "base_uri": "https://localhost:8080/",
          "height": 35
        },
        "id": "Z397HJUo1aoV",
        "outputId": "29c73017-43be-462a-f4ec-a6f29036ec6d"
      },
      "execution_count": 10,
      "outputs": [
        {
          "output_type": "execute_result",
          "data": {
            "text/plain": [
              "'\\n\\n Merck & Co., Inc. is an American multinational pharmaceutical company headquartered in Rahway, New Jersey.'"
            ],
            "application/vnd.google.colaboratory.intrinsic+json": {
              "type": "string"
            }
          },
          "metadata": {},
          "execution_count": 10
        }
      ]
    },
    {
      "cell_type": "code",
      "source": [
        "Stemmer = PorterStemmer()"
      ],
      "metadata": {
        "id": "XuLhyNAl1hAM"
      },
      "execution_count": 11,
      "outputs": []
    },
    {
      "cell_type": "code",
      "source": [
        "Stemmer.stem('thinking')"
      ],
      "metadata": {
        "colab": {
          "base_uri": "https://localhost:8080/",
          "height": 35
        },
        "id": "-LnxkyNg168y",
        "outputId": "746eeb8d-223a-4c57-adfd-6c3a524180ea"
      },
      "execution_count": 14,
      "outputs": [
        {
          "output_type": "execute_result",
          "data": {
            "text/plain": [
              "'think'"
            ],
            "application/vnd.google.colaboratory.intrinsic+json": {
              "type": "string"
            }
          },
          "metadata": {},
          "execution_count": 14
        }
      ]
    },
    {
      "cell_type": "code",
      "source": [
        "from nltk.stem import WordNetLemmatizer"
      ],
      "metadata": {
        "id": "F6McXz9n2XH0"
      },
      "execution_count": 15,
      "outputs": []
    },
    {
      "cell_type": "code",
      "source": [
        "lemmatizer = WordNetLemmatizer()"
      ],
      "metadata": {
        "id": "e66hlGjN2o2M"
      },
      "execution_count": 16,
      "outputs": []
    },
    {
      "cell_type": "code",
      "source": [
        "lemmatizer.lemmatize('bharat')"
      ],
      "metadata": {
        "colab": {
          "base_uri": "https://localhost:8080/",
          "height": 35
        },
        "id": "mMqtJhFO3GlM",
        "outputId": "7d2d5619-652f-4622-9a25-888348e9dcfa"
      },
      "execution_count": 20,
      "outputs": [
        {
          "output_type": "execute_result",
          "data": {
            "text/plain": [
              "'bharat'"
            ],
            "application/vnd.google.colaboratory.intrinsic+json": {
              "type": "string"
            }
          },
          "metadata": {},
          "execution_count": 20
        }
      ]
    },
    {
      "cell_type": "code",
      "source": [
        "import re"
      ],
      "metadata": {
        "id": "9kK98O5a4PPy"
      },
      "execution_count": 22,
      "outputs": []
    },
    {
      "cell_type": "code",
      "source": [
        "\n",
        "corpus = []\n",
        "for i in range(len(sentences)):\n",
        " review =  re.sub('[^a-zA-Z]',' ',sentences[i])\n",
        " review = review.lower()\n",
        " corpus.append(review)\n",
        "\n",
        "\n",
        ""
      ],
      "metadata": {
        "id": "ZiKEga0T3PLs"
      },
      "execution_count": 23,
      "outputs": []
    },
    {
      "cell_type": "code",
      "source": [
        "corpus"
      ],
      "metadata": {
        "colab": {
          "base_uri": "https://localhost:8080/"
        },
        "id": "N3JbFgi24wGv",
        "outputId": "2a3fd1ae-a8d7-4893-f952-b189f915dccb"
      },
      "execution_count": 24,
      "outputs": [
        {
          "output_type": "execute_result",
          "data": {
            "text/plain": [
              "['   merck   co   inc  is an american multinational pharmaceutical company headquartered in rahway  new jersey ',\n",
              " 'the company does business as merck sharp   dohme or msd outside the united states and canada ',\n",
              " 'the company is ranked fourth on the list of largest biomedical companies by revenue ',\n",
              " 'the company s revenues are primarily from cancer treatments  vaccines  and animal health products ',\n",
              " 'in           of the company s revenue  or       billion  came from sales of keytruda  pembrolizumab   a pd   inhibitor used to treat various types of cancers  and     of the company s revenue  or      billion  came from sales of gardasil  an hpv vaccine ',\n",
              " '    in addition     of the company s revenue  or      billion  came from the sales of animal health products ',\n",
              " '     the company is ranked   th on the fortune        and   th on the forbes global      ',\n",
              " '     in       merck   co  was established as the american affiliate of merck group  founded by the merck family  and the companies are still in trademark disputes in several countries over the right to use th']"
            ]
          },
          "metadata": {},
          "execution_count": 24
        }
      ]
    },
    {
      "cell_type": "code",
      "source": [
        "len(sentences)"
      ],
      "metadata": {
        "colab": {
          "base_uri": "https://localhost:8080/"
        },
        "id": "ymc2oE-x24gz",
        "outputId": "9bbf6672-74eb-45ff-a423-bc3f977b25b1"
      },
      "execution_count": 21,
      "outputs": [
        {
          "output_type": "execute_result",
          "data": {
            "text/plain": [
              "8"
            ]
          },
          "metadata": {},
          "execution_count": 21
        }
      ]
    },
    {
      "cell_type": "code",
      "source": [
        "## stemming\n",
        "\n",
        "for i in corpus:\n",
        " words =  nltk.word_tokenize(i)\n",
        " for word in words:\n",
        "    if word not in set(stopwords.words('english')):\n",
        "      print(Stemmer.stem(word))\n",
        ""
      ],
      "metadata": {
        "colab": {
          "base_uri": "https://localhost:8080/"
        },
        "id": "docWOUqn495T",
        "outputId": "10915157-6dec-49e8-fb65-4475ff1f585e"
      },
      "execution_count": 28,
      "outputs": [
        {
          "output_type": "stream",
          "name": "stdout",
          "text": [
            "merck\n",
            "co\n",
            "inc\n",
            "american\n",
            "multin\n",
            "pharmaceut\n",
            "compani\n",
            "headquart\n",
            "rahway\n",
            "new\n",
            "jersey\n",
            "compani\n",
            "busi\n",
            "merck\n",
            "sharp\n",
            "dohm\n",
            "msd\n",
            "outsid\n",
            "unit\n",
            "state\n",
            "canada\n",
            "compani\n",
            "rank\n",
            "fourth\n",
            "list\n",
            "largest\n",
            "biomed\n",
            "compani\n",
            "revenu\n",
            "compani\n",
            "revenu\n",
            "primarili\n",
            "cancer\n",
            "treatment\n",
            "vaccin\n",
            "anim\n",
            "health\n",
            "product\n",
            "compani\n",
            "revenu\n",
            "billion\n",
            "came\n",
            "sale\n",
            "keytruda\n",
            "pembrolizumab\n",
            "pd\n",
            "inhibitor\n",
            "use\n",
            "treat\n",
            "variou\n",
            "type\n",
            "cancer\n",
            "compani\n",
            "revenu\n",
            "billion\n",
            "came\n",
            "sale\n",
            "gardasil\n",
            "hpv\n",
            "vaccin\n",
            "addit\n",
            "compani\n",
            "revenu\n",
            "billion\n",
            "came\n",
            "sale\n",
            "anim\n",
            "health\n",
            "product\n",
            "compani\n",
            "rank\n",
            "th\n",
            "fortun\n",
            "th\n",
            "forb\n",
            "global\n",
            "merck\n",
            "co\n",
            "establish\n",
            "american\n",
            "affili\n",
            "merck\n",
            "group\n",
            "found\n",
            "merck\n",
            "famili\n",
            "compani\n",
            "still\n",
            "trademark\n",
            "disput\n",
            "sever\n",
            "countri\n",
            "right\n",
            "use\n",
            "th\n"
          ]
        }
      ]
    },
    {
      "cell_type": "code",
      "metadata": {
        "colab": {
          "base_uri": "https://localhost:8080/"
        },
        "id": "c32f3388",
        "outputId": "0a065713-7391-4dc0-9ce3-f5f26c425921"
      },
      "source": [
        "import nltk\n",
        "nltk.download('stopwords')"
      ],
      "execution_count": 27,
      "outputs": [
        {
          "output_type": "stream",
          "name": "stderr",
          "text": [
            "[nltk_data] Downloading package stopwords to /root/nltk_data...\n",
            "[nltk_data]   Unzipping corpora/stopwords.zip.\n"
          ]
        },
        {
          "output_type": "execute_result",
          "data": {
            "text/plain": [
              "True"
            ]
          },
          "metadata": {},
          "execution_count": 27
        }
      ]
    },
    {
      "cell_type": "code",
      "source": [
        "stopwords.words('english')"
      ],
      "metadata": {
        "colab": {
          "base_uri": "https://localhost:8080/"
        },
        "id": "Xx0rkp3p6DC5",
        "outputId": "7a345e8a-5c17-4814-8642-3482b47ff3a5"
      },
      "execution_count": 29,
      "outputs": [
        {
          "output_type": "execute_result",
          "data": {
            "text/plain": [
              "['a',\n",
              " 'about',\n",
              " 'above',\n",
              " 'after',\n",
              " 'again',\n",
              " 'against',\n",
              " 'ain',\n",
              " 'all',\n",
              " 'am',\n",
              " 'an',\n",
              " 'and',\n",
              " 'any',\n",
              " 'are',\n",
              " 'aren',\n",
              " \"aren't\",\n",
              " 'as',\n",
              " 'at',\n",
              " 'be',\n",
              " 'because',\n",
              " 'been',\n",
              " 'before',\n",
              " 'being',\n",
              " 'below',\n",
              " 'between',\n",
              " 'both',\n",
              " 'but',\n",
              " 'by',\n",
              " 'can',\n",
              " 'couldn',\n",
              " \"couldn't\",\n",
              " 'd',\n",
              " 'did',\n",
              " 'didn',\n",
              " \"didn't\",\n",
              " 'do',\n",
              " 'does',\n",
              " 'doesn',\n",
              " \"doesn't\",\n",
              " 'doing',\n",
              " 'don',\n",
              " \"don't\",\n",
              " 'down',\n",
              " 'during',\n",
              " 'each',\n",
              " 'few',\n",
              " 'for',\n",
              " 'from',\n",
              " 'further',\n",
              " 'had',\n",
              " 'hadn',\n",
              " \"hadn't\",\n",
              " 'has',\n",
              " 'hasn',\n",
              " \"hasn't\",\n",
              " 'have',\n",
              " 'haven',\n",
              " \"haven't\",\n",
              " 'having',\n",
              " 'he',\n",
              " \"he'd\",\n",
              " \"he'll\",\n",
              " 'her',\n",
              " 'here',\n",
              " 'hers',\n",
              " 'herself',\n",
              " \"he's\",\n",
              " 'him',\n",
              " 'himself',\n",
              " 'his',\n",
              " 'how',\n",
              " 'i',\n",
              " \"i'd\",\n",
              " 'if',\n",
              " \"i'll\",\n",
              " \"i'm\",\n",
              " 'in',\n",
              " 'into',\n",
              " 'is',\n",
              " 'isn',\n",
              " \"isn't\",\n",
              " 'it',\n",
              " \"it'd\",\n",
              " \"it'll\",\n",
              " \"it's\",\n",
              " 'its',\n",
              " 'itself',\n",
              " \"i've\",\n",
              " 'just',\n",
              " 'll',\n",
              " 'm',\n",
              " 'ma',\n",
              " 'me',\n",
              " 'mightn',\n",
              " \"mightn't\",\n",
              " 'more',\n",
              " 'most',\n",
              " 'mustn',\n",
              " \"mustn't\",\n",
              " 'my',\n",
              " 'myself',\n",
              " 'needn',\n",
              " \"needn't\",\n",
              " 'no',\n",
              " 'nor',\n",
              " 'not',\n",
              " 'now',\n",
              " 'o',\n",
              " 'of',\n",
              " 'off',\n",
              " 'on',\n",
              " 'once',\n",
              " 'only',\n",
              " 'or',\n",
              " 'other',\n",
              " 'our',\n",
              " 'ours',\n",
              " 'ourselves',\n",
              " 'out',\n",
              " 'over',\n",
              " 'own',\n",
              " 're',\n",
              " 's',\n",
              " 'same',\n",
              " 'shan',\n",
              " \"shan't\",\n",
              " 'she',\n",
              " \"she'd\",\n",
              " \"she'll\",\n",
              " \"she's\",\n",
              " 'should',\n",
              " 'shouldn',\n",
              " \"shouldn't\",\n",
              " \"should've\",\n",
              " 'so',\n",
              " 'some',\n",
              " 'such',\n",
              " 't',\n",
              " 'than',\n",
              " 'that',\n",
              " \"that'll\",\n",
              " 'the',\n",
              " 'their',\n",
              " 'theirs',\n",
              " 'them',\n",
              " 'themselves',\n",
              " 'then',\n",
              " 'there',\n",
              " 'these',\n",
              " 'they',\n",
              " \"they'd\",\n",
              " \"they'll\",\n",
              " \"they're\",\n",
              " \"they've\",\n",
              " 'this',\n",
              " 'those',\n",
              " 'through',\n",
              " 'to',\n",
              " 'too',\n",
              " 'under',\n",
              " 'until',\n",
              " 'up',\n",
              " 've',\n",
              " 'very',\n",
              " 'was',\n",
              " 'wasn',\n",
              " \"wasn't\",\n",
              " 'we',\n",
              " \"we'd\",\n",
              " \"we'll\",\n",
              " \"we're\",\n",
              " 'were',\n",
              " 'weren',\n",
              " \"weren't\",\n",
              " \"we've\",\n",
              " 'what',\n",
              " 'when',\n",
              " 'where',\n",
              " 'which',\n",
              " 'while',\n",
              " 'who',\n",
              " 'whom',\n",
              " 'why',\n",
              " 'will',\n",
              " 'with',\n",
              " 'won',\n",
              " \"won't\",\n",
              " 'wouldn',\n",
              " \"wouldn't\",\n",
              " 'y',\n",
              " 'you',\n",
              " \"you'd\",\n",
              " \"you'll\",\n",
              " 'your',\n",
              " \"you're\",\n",
              " 'yours',\n",
              " 'yourself',\n",
              " 'yourselves',\n",
              " \"you've\"]"
            ]
          },
          "metadata": {},
          "execution_count": 29
        }
      ]
    },
    {
      "cell_type": "code",
      "source": [
        "## lemmatization\n",
        "\n",
        "for i in corpus:\n",
        " words =  nltk.word_tokenize(i)\n",
        " for word in words:\n",
        "    if word not in set(stopwords.words('english')):\n",
        "      print(lemmatizer.lemmatize(word))"
      ],
      "metadata": {
        "colab": {
          "base_uri": "https://localhost:8080/"
        },
        "id": "YVdPJSkV74zL",
        "outputId": "d89c489b-ad76-47f8-925b-b401edd8a86e"
      },
      "execution_count": 32,
      "outputs": [
        {
          "output_type": "stream",
          "name": "stdout",
          "text": [
            "merck\n",
            "co\n",
            "inc\n",
            "american\n",
            "multinational\n",
            "pharmaceutical\n",
            "company\n",
            "headquartered\n",
            "rahway\n",
            "new\n",
            "jersey\n",
            "company\n",
            "business\n",
            "merck\n",
            "sharp\n",
            "dohme\n",
            "msd\n",
            "outside\n",
            "united\n",
            "state\n",
            "canada\n",
            "company\n",
            "ranked\n",
            "fourth\n",
            "list\n",
            "largest\n",
            "biomedical\n",
            "company\n",
            "revenue\n",
            "company\n",
            "revenue\n",
            "primarily\n",
            "cancer\n",
            "treatment\n",
            "vaccine\n",
            "animal\n",
            "health\n",
            "product\n",
            "company\n",
            "revenue\n",
            "billion\n",
            "came\n",
            "sale\n",
            "keytruda\n",
            "pembrolizumab\n",
            "pd\n",
            "inhibitor\n",
            "used\n",
            "treat\n",
            "various\n",
            "type\n",
            "cancer\n",
            "company\n",
            "revenue\n",
            "billion\n",
            "came\n",
            "sale\n",
            "gardasil\n",
            "hpv\n",
            "vaccine\n",
            "addition\n",
            "company\n",
            "revenue\n",
            "billion\n",
            "came\n",
            "sale\n",
            "animal\n",
            "health\n",
            "product\n",
            "company\n",
            "ranked\n",
            "th\n",
            "fortune\n",
            "th\n",
            "forbes\n",
            "global\n",
            "merck\n",
            "co\n",
            "established\n",
            "american\n",
            "affiliate\n",
            "merck\n",
            "group\n",
            "founded\n",
            "merck\n",
            "family\n",
            "company\n",
            "still\n",
            "trademark\n",
            "dispute\n",
            "several\n",
            "country\n",
            "right\n",
            "use\n",
            "th\n"
          ]
        }
      ]
    },
    {
      "cell_type": "code",
      "source": [
        "from sklearn.feature_extraction.text import CountVectorizer\n",
        "cv = CountVectorizer()\n"
      ],
      "metadata": {
        "id": "Ma6V8cNG8eBR"
      },
      "execution_count": 33,
      "outputs": []
    },
    {
      "cell_type": "code",
      "source": [
        "x = cv.fit_transform(corpus)"
      ],
      "metadata": {
        "id": "WGLta84A8yUr"
      },
      "execution_count": 39,
      "outputs": []
    },
    {
      "cell_type": "code",
      "source": [
        "cv.vocabulary_"
      ],
      "metadata": {
        "colab": {
          "base_uri": "https://localhost:8080/"
        },
        "id": "OZQeucDE84Zx",
        "outputId": "f0f63167-5cb2-4151-f6fe-3fb4430fffe4"
      },
      "execution_count": 35,
      "outputs": [
        {
          "output_type": "execute_result",
          "data": {
            "text/plain": [
              "{'merck': 44,\n",
              " 'co': 16,\n",
              " 'inc': 37,\n",
              " 'is': 39,\n",
              " 'an': 3,\n",
              " 'american': 2,\n",
              " 'multinational': 46,\n",
              " 'pharmaceutical': 55,\n",
              " 'company': 18,\n",
              " 'headquartered': 33,\n",
              " 'in': 36,\n",
              " 'rahway': 58,\n",
              " 'new': 47,\n",
              " 'jersey': 40,\n",
              " 'the': 69,\n",
              " 'does': 21,\n",
              " 'business': 10,\n",
              " 'as': 7,\n",
              " 'sharp': 65,\n",
              " 'dohme': 22,\n",
              " 'or': 50,\n",
              " 'msd': 45,\n",
              " 'outside': 51,\n",
              " 'united': 75,\n",
              " 'states': 66,\n",
              " 'and': 4,\n",
              " 'canada': 13,\n",
              " 'ranked': 59,\n",
              " 'fourth': 28,\n",
              " 'on': 49,\n",
              " 'list': 43,\n",
              " 'of': 48,\n",
              " 'largest': 42,\n",
              " 'biomedical': 9,\n",
              " 'companies': 17,\n",
              " 'by': 11,\n",
              " 'revenue': 60,\n",
              " 'revenues': 61,\n",
              " 'are': 6,\n",
              " 'primarily': 56,\n",
              " 'from': 29,\n",
              " 'cancer': 14,\n",
              " 'treatments': 73,\n",
              " 'vaccines': 79,\n",
              " 'animal': 5,\n",
              " 'health': 34,\n",
              " 'products': 57,\n",
              " 'billion': 8,\n",
              " 'came': 12,\n",
              " 'sales': 63,\n",
              " 'keytruda': 41,\n",
              " 'pembrolizumab': 54,\n",
              " 'pd': 53,\n",
              " 'inhibitor': 38,\n",
              " 'used': 77,\n",
              " 'to': 70,\n",
              " 'treat': 72,\n",
              " 'various': 80,\n",
              " 'types': 74,\n",
              " 'cancers': 15,\n",
              " 'gardasil': 30,\n",
              " 'hpv': 35,\n",
              " 'vaccine': 78,\n",
              " 'addition': 0,\n",
              " 'th': 68,\n",
              " 'fortune': 26,\n",
              " 'forbes': 25,\n",
              " 'global': 31,\n",
              " 'was': 81,\n",
              " 'established': 23,\n",
              " 'affiliate': 1,\n",
              " 'group': 32,\n",
              " 'founded': 27,\n",
              " 'family': 24,\n",
              " 'still': 67,\n",
              " 'trademark': 71,\n",
              " 'disputes': 20,\n",
              " 'several': 64,\n",
              " 'countries': 19,\n",
              " 'over': 52,\n",
              " 'right': 62,\n",
              " 'use': 76}"
            ]
          },
          "metadata": {},
          "execution_count": 35
        }
      ]
    },
    {
      "cell_type": "code",
      "source": [
        "corpus[0]"
      ],
      "metadata": {
        "colab": {
          "base_uri": "https://localhost:8080/",
          "height": 35
        },
        "id": "RmUTX-Wr9E6U",
        "outputId": "28c4fbc4-f861-472f-913a-6e5b85a2d3a0"
      },
      "execution_count": 36,
      "outputs": [
        {
          "output_type": "execute_result",
          "data": {
            "text/plain": [
              "'   merck   co   inc  is an american multinational pharmaceutical company headquartered in rahway  new jersey '"
            ],
            "application/vnd.google.colaboratory.intrinsic+json": {
              "type": "string"
            }
          },
          "metadata": {},
          "execution_count": 36
        }
      ]
    },
    {
      "cell_type": "code",
      "source": [
        "x[0].toarray()"
      ],
      "metadata": {
        "colab": {
          "base_uri": "https://localhost:8080/"
        },
        "id": "gZOsJ8rC9Jq2",
        "outputId": "9983971f-56ce-43e5-efb4-bf8edb5748a6"
      },
      "execution_count": 40,
      "outputs": [
        {
          "output_type": "execute_result",
          "data": {
            "text/plain": [
              "array([[0, 0, 1, 1, 0, 0, 0, 0, 0, 0, 0, 0, 0, 0, 0, 0, 1, 0, 1, 0, 0, 0,\n",
              "        0, 0, 0, 0, 0, 0, 0, 0, 0, 0, 0, 1, 0, 0, 1, 1, 0, 1, 1, 0, 0, 0,\n",
              "        1, 0, 1, 1, 0, 0, 0, 0, 0, 0, 0, 1, 0, 0, 1, 0, 0, 0, 0, 0, 0, 0,\n",
              "        0, 0, 0, 0, 0, 0, 0, 0, 0, 0, 0, 0, 0, 0, 0, 0]])"
            ]
          },
          "metadata": {},
          "execution_count": 40
        }
      ]
    }
  ],
  "metadata": {
    "kernelspec": {
      "display_name": "Python 3",
      "language": "python",
      "name": "python3"
    },
    "language_info": {
      "codemirror_mode": {
        "name": "ipython",
        "version": 3
      },
      "file_extension": ".py",
      "mimetype": "text/x-python",
      "name": "python",
      "nbconvert_exporter": "python",
      "pygments_lexer": "ipython3",
      "version": "3.7.0"
    },
    "colab": {
      "provenance": []
    }
  },
  "nbformat": 4,
  "nbformat_minor": 0
}