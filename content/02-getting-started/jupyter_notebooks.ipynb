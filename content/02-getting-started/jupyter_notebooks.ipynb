{
  "cells": [
    {
      "cell_type": "markdown",
      "metadata": {
        "id": "AemtnyRNw2Qn"
      },
      "source": [
        "# Jupyter Notebooks"
      ]
    },
    {
      "cell_type": "markdown",
      "metadata": {
        "id": "jJr6Znouw2Qp"
      },
      "source": [
        "In this chapter, we'll cover Jupyter Notebooks, including how to write and execute code and how to write text in the **Markdown** format. We'll also discuss what the kernel is, so that you understand generally how Jupyter Notebooks work."
      ]
    },
    {
      "cell_type": "markdown",
      "metadata": {
        "id": "oZw3qJVyw2Qr"
      },
      "source": [
        "<div class=\"alert alert-success\">\n",
        "Jupyter notebooks are a way to combine executable code, code outputs, and text into one connected file.\n",
        "</div>\n",
        "\n",
        "<div class=\"alert alert-info\">\n",
        "The official documentation from project Jupyter is available\n",
        "<a href=\"https://jupyter-notebook.readthedocs.io/en/stable/\" class=\"alert-link\">here</a>\n",
        "and they also have some example notebooks\n",
        "<a href=\"https://github.com/jupyter/notebook/tree/master/docs/source/examples/Notebook\" class=\"alert-link\">here</a>\n",
        ".\n",
        "</div>"
      ]
    },
    {
      "cell_type": "markdown",
      "metadata": {
        "id": "OVettsuEw2Qs"
      },
      "source": [
        "## Menu Options & Shortcuts\n",
        "\n",
        "To get a quick tour of the Jupyter user-interface, click on the 'Help' menu, then click 'User Interface Tour'.\n",
        "\n",
        "There are also a large number of useful keyboard shortcuts. Click on the 'Help' menu, and then 'Keyboard Shortcuts' to see a list."
      ]
    },
    {
      "cell_type": "markdown",
      "metadata": {
        "id": "2nsV6lrCw2Qs"
      },
      "source": [
        "## Cells"
      ]
    },
    {
      "cell_type": "markdown",
      "metadata": {
        "id": "vQf5HFbbw2Qt"
      },
      "source": [
        "<div class=\"alert alert-success\">\n",
        "    The main organizational structure of the notebook are <b> cells </b>.\n",
        "</div>"
      ]
    },
    {
      "cell_type": "markdown",
      "metadata": {
        "id": "8IOFLe4hw2Qu"
      },
      "source": [
        "**Cells** are an independent 'unit'. When you click into a cell, you can 'run' it by clicking Shift + Enter, or by pressing the play (Run) button at the top of your notebook.\n",
        "\n",
        "Cells come in different types for writing different things - mainly, text or code."
      ]
    },
    {
      "cell_type": "markdown",
      "metadata": {
        "id": "1DVyYcy3w2Qu"
      },
      "source": [
        "### Markdown Cells\n",
        "\n",
        "Cells, can be plain text. In this book, for chapters where code is included, any place you see text - meaning places were we aren'twriting and executing code  - will be written in **Markdown**.\n",
        "\n",
        "Markdown is a way to specify all the text formatting you see within the text itself."
      ]
    },
    {
      "cell_type": "markdown",
      "metadata": {
        "id": "baemUfrTw2Qv"
      },
      "source": [
        "#### _Italics_ & __Bold__\n",
        "\n",
        "For example, *italicized text* can be specified with an \\_underscore\\_ or \\*single asterisks\\*. So, using markdown formatting, that text would appear as follows:\n",
        "\n",
        "For example, italicized text can be specified with an _underscore_ or *single asterisks*.\n",
        "\n",
        "**Bold text** requires \\_\\_two underccores\\_\\_ or \\*\\*two asterisks\\*\\* surrounding the text you would like to bold. Using Markdown formatting, that text would look like this:\n",
        "\n",
        "**Bold text** requires __two underccores__ or **two asterisks** surrounding the text you would like to bold.\n",
        "\n"
      ]
    },
    {
      "cell_type": "markdown",
      "metadata": {
        "id": "7HJ--ONFw2Qv"
      },
      "source": [
        "#### Headers\n",
        "\n",
        "There are a number of different size header you can use with Markdown formatting. The number of pound signs preceeding the header specifies the size of the header.\n",
        "\n",
        "For example, the following:\n",
        "\n",
        "```\n",
        "# Headers are specified with a pound sign\n",
        "## The more pound signs, the smaller the header\n",
        "#### But it's still larger\n",
        "than just plain text.\n",
        "```\n",
        "\n",
        "would appear as follows using Markdown formatting:\n",
        "\n",
        "\n",
        "## Headers are specified with a pound sign\n",
        "\n",
        "### The more pound signs, the smaller the header\n",
        "\n",
        "#### But it's still larger\n",
        "\n",
        "than just plain text.\n",
        "\n",
        "---\n",
        "\n",
        "Note that to specify text for a header. the pound sign is followed by a space before the text for the header. The largest header -- specified by 1 pound sign -- is referred to as an H1 header. The second largest, H2, and so on and so forth."
      ]
    },
    {
      "cell_type": "markdown",
      "metadata": {
        "id": "qUns1FnLw2Qw"
      },
      "source": [
        "#### Lists\n",
        "\n",
        "Finally, **lists** are also possible with Markdown formatting. Ordered lists are specified with a number, followed by a decimal point, followed by a space and then the text for the list. For example, the following:\n",
        "\n",
        "```\n",
        "1. numbered item\n",
        "2. item 2\n",
        "3. item 3\n",
        "```\n",
        "\n",
        "would appear as follows with Markdown formatting:\n",
        "\n",
        "1. numbered item\n",
        "2. item 2\n",
        "3. item 3\n",
        "\n",
        "Bulleted or unordered lists are also possible. these are specified by either a dash (`-`) or an asterisk (`*`) instead of the number and decimal point.\n",
        "\n",
        "For example, either of the following:\n",
        "\n",
        "```\n",
        "- item 1\n",
        "- item 2\n",
        "- item 3\n",
        "```\n",
        "\n",
        "or\n",
        "\n",
        "```\n",
        "* item 1\n",
        "* item 2\n",
        "* item 3\n",
        "```\n",
        "\n",
        "would appear as follows with Markdown formatting:\n",
        "\n",
        "- item 1\n",
        "- item 2\n",
        "- item 3"
      ]
    },
    {
      "cell_type": "markdown",
      "metadata": {
        "id": "LywaaJjAw2Qw"
      },
      "source": [
        "### Code Cells\n",
        "\n",
        "Markdown is really helpful when you want to share text within a Jupyter notebook; however, you're here to learn to program. So let's start talking about code! Whenever you're writing code, you'll want to be sure the cell is set to be a code cell. Within a Jupyter notebook, whenever a cell is selected, you can look at the menu across the top. The drop-down menu will specify what type of cell you're working with.\n",
        "\n",
        "Here, we see an example of what you would see for a Markdown cell.\n",
        "\n",
        "![Markdown cell specified along toolbar](https://github.com/shanellis/pythonbook/blob/master/content/images/01-intro/markdown_cell.png?raw=1)\n",
        "\n",
        "To change this cell to a code cell, you would select \"Code\" from the drop-down menu. You'd then be able to write and execute code from the cell!\n",
        "\n",
        "![Code selected from drop-down menu](https://github.com/shanellis/pythonbook/blob/master/content/images/01-intro/code_cell.png?raw=1)"
      ]
    },
    {
      "cell_type": "markdown",
      "metadata": {
        "id": "svKC7OmNw2Qw"
      },
      "source": [
        "The next cell is an example of a code cell. The first line in that cell is a **comment**. Comments are ignored by the computer and are there to help humans reading the code understand what's going on. Comments always start with a pound sign. Note that a pound sign in a Markdown cell indicates something different (a header) than it does in a code cell (a comment).\n",
        "\n",
        "The second and third line in the example below are lines of Python code! Here we're assigning information to two variables: `a` and `b`. We'll talk all about variable assignment in the next chapter."
      ]
    },
    {
      "cell_type": "code",
      "execution_count": null,
      "metadata": {
        "id": "T1nigifHw2Qw"
      },
      "outputs": [],
      "source": [
        "# Cell can also be code.\n",
        "a = 1\n",
        "b = 2"
      ]
    },
    {
      "cell_type": "markdown",
      "metadata": {
        "id": "73CVfiLXw2Qx"
      },
      "source": [
        "#### Running Code\n",
        "\n",
        "What's important to know now is that Jupyter notebooks don't *just* allow you to write code. You can also **execute the code**. Nothing happens until you execute (or \"run\") code.\n",
        "\n",
        "For example, in the first cell above, that code was typed but never executed. We know that it wasn't executed because to the left of the cell we see `In [ ]:`.\n",
        "\n",
        "![Code cell not yet executed](https://github.com/shanellis/pythonbook/blob/master/content/images/01-intro/not_executed.png?raw=1)\n",
        "\n",
        "The empty brackets suggested that this code has not yet been executed.\n",
        "\n",
        "Once executed, a number will show up within those brackets:\n",
        "\n",
        "![Code cell not yet executed](https://github.com/shanellis/pythonbook/blob/master/content/images/01-intro/executed_code.png?raw=1)\n",
        "\n",
        "The first code cell you run in a Jupyter notebook will have a `[1]`. The second a `[2]` and so on and so forth.\n",
        "\n",
        "To execute a cell, you can click on the cell you'd like to run and click \"Run\" along the toolbar at the top. Or, more likely, you'll want to get in the habit of using hte keyboard shortcut `Shift + Enter` to run your cells. note that `Shift + Enter` will run code cells *and* format Markdown cells.\n",
        "\n",
        "One important caveat is that if you ever see a `[*]`. to to the left of your code cell, this indicates that the cell is still running. This cann happen if you write code that takes a while to run *or* if you've written code that will run forever (such as an infinite loop).\n",
        "\n",
        "If this happens and you do *not* want to allow the code to continue to execute (for example, you have an infinite loop and want the code to stop from running, you can click on the square stop icon from the toolbar at the top.\n",
        "\n",
        "![Stop code cell from executing](https://github.com/shanellis/pythonbook/blob/master/content/images/01-intro/stop.png?raw=1)\n",
        "\n",
        "Upon executing the code in a cell, often, there will be some sort of output. The code below says subtract 2 (the value stored in `b`) from 1 (the value stored in `a`) and store that in the variable `c`. Then, the final line here says, print that value out to the screen."
      ]
    },
    {
      "cell_type": "code",
      "execution_count": null,
      "metadata": {
        "scrolled": true,
        "id": "quXIW3Cjw2Qy",
        "outputId": "8c947b0a-2137-4df6-ed01-7f6e15b66993"
      },
      "outputs": [
        {
          "name": "stdout",
          "output_type": "stream",
          "text": [
            "-1\n"
          ]
        }
      ],
      "source": [
        "# Cells can also have output, that gets printed out below the cell.\n",
        "c = a - b\n",
        "print(c)"
      ]
    },
    {
      "cell_type": "markdown",
      "metadata": {
        "id": "_KJLfNF9w2Qy"
      },
      "source": [
        "What you see above is why notebooks are so great! They allow explanatory text, python code, *and* the outputs from that code to intermingle in a single document!\n",
        "\n",
        "Before we move on, one more piece of information about Jupyter notebooks in particular. If the last line of code in a code cell is a variable name, the Jupyter notebook, will print the contents of that varaible to your screen, without you having to put `print()` around it. We'll use this a bunch throughout the book, so it's worth noting now, even though we haven't *exactly* covered what variables are...yet!"
      ]
    },
    {
      "cell_type": "code",
      "execution_count": null,
      "metadata": {
        "id": "9adXO0LTw2Qz",
        "outputId": "fd2d56b3-4762-4ed5-d976-2157eb607c66"
      },
      "outputs": [
        {
          "data": {
            "text/plain": [
              "-1"
            ]
          },
          "execution_count": 3,
          "metadata": {},
          "output_type": "execute_result"
        }
      ],
      "source": [
        "# if variable last thing in cell\n",
        "# output will be variable conents\n",
        "c"
      ]
    },
    {
      "cell_type": "markdown",
      "metadata": {
        "id": "v1V9N2W9w2Qz"
      },
      "source": [
        "#### Cell Order\n",
        "\n",
        "Ok, so we've discussed that the numbers in the square brackets to the left of a cell show which cells have been run, and in what order and that an asterisk (`*`) means that the cell is currently running. What we haven't yet discussed is that the order in which the cells are run does ***not*** matter to Python or Jupyter notebooks.\n",
        "\n",
        "This allows you to flexibly test and develop code. For example, say you've run a few cells of code in order from top to bottom. Then, you realize you wanted a different value in that first code cell. You can go back to that first cell, change it to be the value you want, and then return back to a different cell. Python and Jupyter Notebooks will keep track of whatever was run most recently.\n",
        "\n",
        "For beginners and individuals less familiar with working in notebooks, this can sometimes take a bit to get used to, but the benefits of this flexibility outweigh the cognitive load it takes to remember that the order isn't set in stone to go from top to bottom."
      ]
    },
    {
      "cell_type": "markdown",
      "metadata": {
        "id": "jrwEfAfJw2Qz"
      },
      "source": [
        "## Accessing Documentation\n",
        "\n",
        "When you're new to Python (or any programming language), knowing where to look for more information is critical. While Google and StackOverflow will likely be very helpful, Python and Jupyter Notebooks have built-in ways for you to access documentation that will provide you with helpful information."
      ]
    },
    {
      "cell_type": "markdown",
      "metadata": {
        "id": "j1RkNiaww2Qz"
      },
      "source": [
        "<div class=\"alert alert-success\">\n",
        "Jupyter has useful shortcuts. Add a single '?' after a function or class get a window with the documentation, or a double '??' to pull up the source code.\n",
        "</div>"
      ]
    },
    {
      "cell_type": "code",
      "execution_count": null,
      "metadata": {
        "id": "pwnSmJYZw2Q0"
      },
      "outputs": [],
      "source": [
        "# For example, execute this cell to see the documentation for the 'abs'\n",
        "abs?"
      ]
    },
    {
      "cell_type": "markdown",
      "metadata": {
        "id": "HoYljzoOw2Q0"
      },
      "source": [
        "## Autocomplete"
      ]
    },
    {
      "cell_type": "markdown",
      "metadata": {
        "id": "CwPUe8QWw2Q0"
      },
      "source": [
        "<div class=\"alert alert-success\">\n",
        "Jupyter also has\n",
        "<a href=\"https://en.wikipedia.org/wiki/Command-line_completion\" class=\"alert-link\">tab complete</a>\n",
        "capacities, which can autocomplete what you are typing, and/or be used to explore what code is available.  \n",
        "</div>"
      ]
    },
    {
      "cell_type": "code",
      "execution_count": null,
      "metadata": {
        "id": "0CO7MPBCw2Q0"
      },
      "outputs": [],
      "source": [
        "# Move your cursor to the end of the line, press tab, and a drop menu will appear showing all possible completions\n",
        "ra"
      ]
    },
    {
      "cell_type": "code",
      "execution_count": null,
      "metadata": {
        "id": "8ThSdni5w2Q0"
      },
      "outputs": [],
      "source": [
        "# If there is only one option, tab-complete will auto-complete what you are typing\n",
        "ran"
      ]
    },
    {
      "cell_type": "markdown",
      "metadata": {
        "id": "Zvu3_Vmyw2Q1"
      },
      "source": [
        "## Web Browser"
      ]
    },
    {
      "cell_type": "markdown",
      "metadata": {
        "id": "bi6qqiU6w2Q1"
      },
      "source": [
        "<div class=\"alert alert-success\">\n",
        "Jupyter notebooks display in a web browser. They are not hosted on the web, everything is happening locally.\n",
        "</div>"
      ]
    },
    {
      "cell_type": "markdown",
      "metadata": {
        "id": "pKIupYnjw2Q2"
      },
      "source": [
        "If you click on the url in the browser, you will notice it says 'localhost'. This means it is connected to something locally, on your computer.\n",
        "\n",
        "That local connection is to the 'kernel'."
      ]
    },
    {
      "cell_type": "markdown",
      "metadata": {
        "id": "NPACsoc_w2Q2"
      },
      "source": [
        "## Kernels"
      ]
    },
    {
      "cell_type": "markdown",
      "metadata": {
        "id": "6zYmuWwuw2Q3"
      },
      "source": [
        "<div class=\"alert alert-success\">\n",
        "The 'kernel' is the thing that executes your code. It is what connects the notebook (as you see it) with the part of your computer that runs code.\n",
        "</div>"
      ]
    },
    {
      "cell_type": "markdown",
      "metadata": {
        "id": "WKSl-0Fiw2Q3"
      },
      "source": [
        "Your kernel also stores your **namespace** - all the variables and code that you have declared (executed).\n",
        "\n",
        "It can be useful to clear and re-launch the kernel. You can do this from the 'kernel' drop down menu, at the top, optionally also clearing all ouputs. Note that this will erase any variables that are stored in memory."
      ]
    },
    {
      "cell_type": "markdown",
      "metadata": {
        "id": "w5sDI2Lmw2Q3"
      },
      "source": [
        "<div class=\"alert alert-info\">\n",
        "For more useful information, check out Jupyter Notebooks\n",
        "<a href=\"https://www.dataquest.io/blog/jupyter-notebook-tips-tricks-shortcuts/\" class=\"alert-link\">tips & tricks</a>\n",
        ", and more information on how\n",
        "<a href=\"http://jupyter.readthedocs.io/en/latest/architecture/how_jupyter_ipython_work.html\" class=\"alert-link\">notebooks work</a>.\n",
        "</div>"
      ]
    },
    {
      "cell_type": "markdown",
      "metadata": {
        "id": "X_w51948w2Q3"
      },
      "source": [
        "## Exercises\n",
        "\n",
        "Q1. **What does three underscores around text accomplish?**  \n",
        "\n",
        "A) bold  \n",
        "B) italicize  \n",
        "C) bold + italicize  \n",
        "D) plain text    \n",
        "\n",
        "\n",
        "Q2. **Add a cell to a notebook, change it to be a Markdown cell, and add your name as (1) plain text, (2) italicized text, and (3) bold text.**\n",
        "  \n",
        "\n",
        "Q3. **What would happen if I specified a numbered list but put the same number before each list item?**  \n",
        "\n",
        "A) the list would have the same number before each item  \n",
        "B) markdown would still format it with sequential numbers  \n",
        "C) markdown wouldn't know it was a list  \n",
        "D) normal text with everything on a single line  \n",
        "\n",
        "\n",
        "Q4. **Write code in a code cell and execute it so that the value returned from the cell is '6'.**\n",
        "\n",
        "\n",
        "Q5. **If the following were in a code cell, what would be the output of the following?**\n",
        "\n",
        "```python\n",
        "a = 1\n",
        "b = 2\n",
        "c = 3\n",
        "print(a + b + c)\n",
        "```\n",
        "  \n",
        "Q6. **If the following were in a code cell, what would be the output of the following?**\n",
        "\n",
        "```python\n",
        "a = 1\n",
        "b = 2\n",
        "c = 3\n",
        "a + b + c\n",
        "```\n",
        "  \n",
        "Q7. **If the following were in a code cell, what would be the output of the following?**\n",
        "\n",
        "```python\n",
        "a = 1\n",
        "b = 2\n",
        "c = 3\n",
        "```"
      ]
    },
    {
      "cell_type": "code",
      "source": [
        "!pip install nltk"
      ],
      "metadata": {
        "colab": {
          "base_uri": "https://localhost:8080/"
        },
        "id": "wsLkVH6hw4eD",
        "outputId": "5d8ce13a-a02f-43f3-d488-b56d5823285e"
      },
      "execution_count": 2,
      "outputs": [
        {
          "output_type": "stream",
          "name": "stdout",
          "text": [
            "Requirement already satisfied: nltk in /usr/local/lib/python3.12/dist-packages (3.9.1)\n",
            "Requirement already satisfied: click in /usr/local/lib/python3.12/dist-packages (from nltk) (8.2.1)\n",
            "Requirement already satisfied: joblib in /usr/local/lib/python3.12/dist-packages (from nltk) (1.5.2)\n",
            "Requirement already satisfied: regex>=2021.8.3 in /usr/local/lib/python3.12/dist-packages (from nltk) (2024.11.6)\n",
            "Requirement already satisfied: tqdm in /usr/local/lib/python3.12/dist-packages (from nltk) (4.67.1)\n"
          ]
        }
      ]
    },
    {
      "cell_type": "code",
      "source": [
        "paragraph='''\n",
        "\n",
        " Merck & Co., Inc. is an American multinational pharmaceutical company headquartered in Rahway, New Jersey. The company does business as Merck Sharp & Dohme or MSD outside the United States and Canada. The company is ranked fourth on the list of largest biomedical companies by revenue.\n",
        "\n",
        "The company's revenues are primarily from cancer treatments, vaccines, and animal health products. In 2024, 46% of the company's revenue, or $29.5 billion, came from sales of Keytruda (pembrolizumab), a PD-1 inhibitor used to treat various types of cancers, and 13% of the company's revenue, or $8.6 billion, came from sales of Gardasil, an HPV vaccine.[1] In addition, 9% of the company's revenue, or $5.8 billion, came from the sales of animal health products.[1]\n",
        "\n",
        "The company is ranked 65th on the Fortune 500[2] and 76th on the Forbes Global 2000.[3]\n",
        "\n",
        "In 1891, Merck & Co. was established as the American affiliate of Merck Group, founded by the Merck family, and the companies are still in trademark disputes in several countries over the right to use th\n",
        "\n",
        "\n",
        "'''"
      ],
      "metadata": {
        "id": "V7KXh1amyIsl"
      },
      "execution_count": 4,
      "outputs": []
    },
    {
      "cell_type": "code",
      "source": [
        "paragraph"
      ],
      "metadata": {
        "colab": {
          "base_uri": "https://localhost:8080/",
          "height": 139
        },
        "id": "FOJCe-HRzwmw",
        "outputId": "73449de6-4613-40a1-8990-7b6537d8d970"
      },
      "execution_count": 5,
      "outputs": [
        {
          "output_type": "execute_result",
          "data": {
            "text/plain": [
              "\"\\n\\n Merck & Co., Inc. is an American multinational pharmaceutical company headquartered in Rahway, New Jersey. The company does business as Merck Sharp & Dohme or MSD outside the United States and Canada. The company is ranked fourth on the list of largest biomedical companies by revenue.\\n\\nThe company's revenues are primarily from cancer treatments, vaccines, and animal health products. In 2024, 46% of the company's revenue, or $29.5 billion, came from sales of Keytruda (pembrolizumab), a PD-1 inhibitor used to treat various types of cancers, and 13% of the company's revenue, or $8.6 billion, came from sales of Gardasil, an HPV vaccine.[1] In addition, 9% of the company's revenue, or $5.8 billion, came from the sales of animal health products.[1]\\n\\nThe company is ranked 65th on the Fortune 500[2] and 76th on the Forbes Global 2000.[3]\\n\\nIn 1891, Merck & Co. was established as the American affiliate of Merck Group, founded by the Merck family, and the companies are still in trademark disputes in several countries over the right to use th\\n\\n\\n\""
            ],
            "application/vnd.google.colaboratory.intrinsic+json": {
              "type": "string"
            }
          },
          "metadata": {},
          "execution_count": 5
        }
      ]
    },
    {
      "cell_type": "code",
      "source": [
        "import nltk\n",
        "from nltk.stem import PorterStemmer\n",
        "from nltk.corpus import stopwords"
      ],
      "metadata": {
        "id": "PL6Itoxlz7NG"
      },
      "execution_count": 6,
      "outputs": []
    },
    {
      "cell_type": "code",
      "source": [
        "## tokenization -- convert paragraph-sentences-words\n",
        "nltk.download('punkt_tab')\n",
        "sentences = nltk.sent_tokenize(paragraph)"
      ],
      "metadata": {
        "colab": {
          "base_uri": "https://localhost:8080/"
        },
        "id": "hJpUYXRz0Poc",
        "outputId": "16cac180-a6f3-4005-c996-57a219a5eda7"
      },
      "execution_count": 8,
      "outputs": [
        {
          "output_type": "stream",
          "name": "stderr",
          "text": [
            "[nltk_data] Downloading package punkt_tab to /root/nltk_data...\n",
            "[nltk_data]   Unzipping tokenizers/punkt_tab.zip.\n"
          ]
        }
      ]
    },
    {
      "cell_type": "code",
      "source": [
        "sentences"
      ],
      "metadata": {
        "colab": {
          "base_uri": "https://localhost:8080/"
        },
        "id": "2yfq2TZq1NF4",
        "outputId": "f106ab3e-9091-439a-fe5b-e37a4c227403"
      },
      "execution_count": 9,
      "outputs": [
        {
          "output_type": "execute_result",
          "data": {
            "text/plain": [
              "['\\n\\n Merck & Co., Inc. is an American multinational pharmaceutical company headquartered in Rahway, New Jersey.',\n",
              " 'The company does business as Merck Sharp & Dohme or MSD outside the United States and Canada.',\n",
              " 'The company is ranked fourth on the list of largest biomedical companies by revenue.',\n",
              " \"The company's revenues are primarily from cancer treatments, vaccines, and animal health products.\",\n",
              " \"In 2024, 46% of the company's revenue, or $29.5 billion, came from sales of Keytruda (pembrolizumab), a PD-1 inhibitor used to treat various types of cancers, and 13% of the company's revenue, or $8.6 billion, came from sales of Gardasil, an HPV vaccine.\",\n",
              " \"[1] In addition, 9% of the company's revenue, or $5.8 billion, came from the sales of animal health products.\",\n",
              " '[1]\\n\\nThe company is ranked 65th on the Fortune 500[2] and 76th on the Forbes Global 2000.',\n",
              " '[3]\\n\\nIn 1891, Merck & Co. was established as the American affiliate of Merck Group, founded by the Merck family, and the companies are still in trademark disputes in several countries over the right to use th']"
            ]
          },
          "metadata": {},
          "execution_count": 9
        }
      ]
    },
    {
      "cell_type": "code",
      "source": [
        "sentences[0]"
      ],
      "metadata": {
        "colab": {
          "base_uri": "https://localhost:8080/",
          "height": 35
        },
        "id": "Z397HJUo1aoV",
        "outputId": "29c73017-43be-462a-f4ec-a6f29036ec6d"
      },
      "execution_count": 10,
      "outputs": [
        {
          "output_type": "execute_result",
          "data": {
            "text/plain": [
              "'\\n\\n Merck & Co., Inc. is an American multinational pharmaceutical company headquartered in Rahway, New Jersey.'"
            ],
            "application/vnd.google.colaboratory.intrinsic+json": {
              "type": "string"
            }
          },
          "metadata": {},
          "execution_count": 10
        }
      ]
    },
    {
      "cell_type": "code",
      "source": [
        "Stemmer = PorterStemmer()"
      ],
      "metadata": {
        "id": "XuLhyNAl1hAM"
      },
      "execution_count": 11,
      "outputs": []
    },
    {
      "cell_type": "code",
      "source": [
        "Stemmer.stem('thinking')"
      ],
      "metadata": {
        "colab": {
          "base_uri": "https://localhost:8080/",
          "height": 35
        },
        "id": "-LnxkyNg168y",
        "outputId": "746eeb8d-223a-4c57-adfd-6c3a524180ea"
      },
      "execution_count": 14,
      "outputs": [
        {
          "output_type": "execute_result",
          "data": {
            "text/plain": [
              "'think'"
            ],
            "application/vnd.google.colaboratory.intrinsic+json": {
              "type": "string"
            }
          },
          "metadata": {},
          "execution_count": 14
        }
      ]
    },
    {
      "cell_type": "code",
      "source": [
        "from nltk.stem import WordNetLemmatizer"
      ],
      "metadata": {
        "id": "F6McXz9n2XH0"
      },
      "execution_count": 15,
      "outputs": []
    },
    {
      "cell_type": "code",
      "source": [
        "lemmatizer = WordNetLemmatizer()"
      ],
      "metadata": {
        "id": "e66hlGjN2o2M"
      },
      "execution_count": 16,
      "outputs": []
    },
    {
      "cell_type": "code",
      "source": [
        "lemmatizer.lemmatize('bharat')"
      ],
      "metadata": {
        "colab": {
          "base_uri": "https://localhost:8080/",
          "height": 35
        },
        "id": "mMqtJhFO3GlM",
        "outputId": "7d2d5619-652f-4622-9a25-888348e9dcfa"
      },
      "execution_count": 20,
      "outputs": [
        {
          "output_type": "execute_result",
          "data": {
            "text/plain": [
              "'bharat'"
            ],
            "application/vnd.google.colaboratory.intrinsic+json": {
              "type": "string"
            }
          },
          "metadata": {},
          "execution_count": 20
        }
      ]
    },
    {
      "cell_type": "code",
      "source": [
        "import re"
      ],
      "metadata": {
        "id": "9kK98O5a4PPy"
      },
      "execution_count": 22,
      "outputs": []
    },
    {
      "cell_type": "code",
      "source": [
        "\n",
        "corpus = []\n",
        "for i in range(len(sentences)):\n",
        " review =  re.sub('[^a-zA-Z]',' ',sentences[i])\n",
        " review = review.lower()\n",
        " corpus.append(review)\n",
        "\n",
        "\n",
        ""
      ],
      "metadata": {
        "id": "ZiKEga0T3PLs"
      },
      "execution_count": 23,
      "outputs": []
    },
    {
      "cell_type": "code",
      "source": [
        "corpus"
      ],
      "metadata": {
        "colab": {
          "base_uri": "https://localhost:8080/"
        },
        "id": "N3JbFgi24wGv",
        "outputId": "2a3fd1ae-a8d7-4893-f952-b189f915dccb"
      },
      "execution_count": 24,
      "outputs": [
        {
          "output_type": "execute_result",
          "data": {
            "text/plain": [
              "['   merck   co   inc  is an american multinational pharmaceutical company headquartered in rahway  new jersey ',\n",
              " 'the company does business as merck sharp   dohme or msd outside the united states and canada ',\n",
              " 'the company is ranked fourth on the list of largest biomedical companies by revenue ',\n",
              " 'the company s revenues are primarily from cancer treatments  vaccines  and animal health products ',\n",
              " 'in           of the company s revenue  or       billion  came from sales of keytruda  pembrolizumab   a pd   inhibitor used to treat various types of cancers  and     of the company s revenue  or      billion  came from sales of gardasil  an hpv vaccine ',\n",
              " '    in addition     of the company s revenue  or      billion  came from the sales of animal health products ',\n",
              " '     the company is ranked   th on the fortune        and   th on the forbes global      ',\n",
              " '     in       merck   co  was established as the american affiliate of merck group  founded by the merck family  and the companies are still in trademark disputes in several countries over the right to use th']"
            ]
          },
          "metadata": {},
          "execution_count": 24
        }
      ]
    },
    {
      "cell_type": "code",
      "source": [
        "len(sentences)"
      ],
      "metadata": {
        "colab": {
          "base_uri": "https://localhost:8080/"
        },
        "id": "ymc2oE-x24gz",
        "outputId": "9bbf6672-74eb-45ff-a423-bc3f977b25b1"
      },
      "execution_count": 21,
      "outputs": [
        {
          "output_type": "execute_result",
          "data": {
            "text/plain": [
              "8"
            ]
          },
          "metadata": {},
          "execution_count": 21
        }
      ]
    },
    {
      "cell_type": "code",
      "source": [
        "## stemming\n",
        "\n",
        "for i in corpus:\n",
        " words =  nltk.word_tokenize(i)\n",
        " for word in words:\n",
        "    if word not in set(stopwords.words('english')):\n",
        "      print(Stemmer.stem(word))\n",
        ""
      ],
      "metadata": {
        "colab": {
          "base_uri": "https://localhost:8080/"
        },
        "id": "docWOUqn495T",
        "outputId": "10915157-6dec-49e8-fb65-4475ff1f585e"
      },
      "execution_count": 28,
      "outputs": [
        {
          "output_type": "stream",
          "name": "stdout",
          "text": [
            "merck\n",
            "co\n",
            "inc\n",
            "american\n",
            "multin\n",
            "pharmaceut\n",
            "compani\n",
            "headquart\n",
            "rahway\n",
            "new\n",
            "jersey\n",
            "compani\n",
            "busi\n",
            "merck\n",
            "sharp\n",
            "dohm\n",
            "msd\n",
            "outsid\n",
            "unit\n",
            "state\n",
            "canada\n",
            "compani\n",
            "rank\n",
            "fourth\n",
            "list\n",
            "largest\n",
            "biomed\n",
            "compani\n",
            "revenu\n",
            "compani\n",
            "revenu\n",
            "primarili\n",
            "cancer\n",
            "treatment\n",
            "vaccin\n",
            "anim\n",
            "health\n",
            "product\n",
            "compani\n",
            "revenu\n",
            "billion\n",
            "came\n",
            "sale\n",
            "keytruda\n",
            "pembrolizumab\n",
            "pd\n",
            "inhibitor\n",
            "use\n",
            "treat\n",
            "variou\n",
            "type\n",
            "cancer\n",
            "compani\n",
            "revenu\n",
            "billion\n",
            "came\n",
            "sale\n",
            "gardasil\n",
            "hpv\n",
            "vaccin\n",
            "addit\n",
            "compani\n",
            "revenu\n",
            "billion\n",
            "came\n",
            "sale\n",
            "anim\n",
            "health\n",
            "product\n",
            "compani\n",
            "rank\n",
            "th\n",
            "fortun\n",
            "th\n",
            "forb\n",
            "global\n",
            "merck\n",
            "co\n",
            "establish\n",
            "american\n",
            "affili\n",
            "merck\n",
            "group\n",
            "found\n",
            "merck\n",
            "famili\n",
            "compani\n",
            "still\n",
            "trademark\n",
            "disput\n",
            "sever\n",
            "countri\n",
            "right\n",
            "use\n",
            "th\n"
          ]
        }
      ]
    },
    {
      "cell_type": "code",
      "metadata": {
        "colab": {
          "base_uri": "https://localhost:8080/"
        },
        "id": "c32f3388",
        "outputId": "0a065713-7391-4dc0-9ce3-f5f26c425921"
      },
      "source": [
        "import nltk\n",
        "nltk.download('stopwords')"
      ],
      "execution_count": 27,
      "outputs": [
        {
          "output_type": "stream",
          "name": "stderr",
          "text": [
            "[nltk_data] Downloading package stopwords to /root/nltk_data...\n",
            "[nltk_data]   Unzipping corpora/stopwords.zip.\n"
          ]
        },
        {
          "output_type": "execute_result",
          "data": {
            "text/plain": [
              "True"
            ]
          },
          "metadata": {},
          "execution_count": 27
        }
      ]
    },
    {
      "cell_type": "code",
      "source": [
        "stopwords.words('english')"
      ],
      "metadata": {
        "colab": {
          "base_uri": "https://localhost:8080/"
        },
        "id": "Xx0rkp3p6DC5",
        "outputId": "7a345e8a-5c17-4814-8642-3482b47ff3a5"
      },
      "execution_count": 29,
      "outputs": [
        {
          "output_type": "execute_result",
          "data": {
            "text/plain": [
              "['a',\n",
              " 'about',\n",
              " 'above',\n",
              " 'after',\n",
              " 'again',\n",
              " 'against',\n",
              " 'ain',\n",
              " 'all',\n",
              " 'am',\n",
              " 'an',\n",
              " 'and',\n",
              " 'any',\n",
              " 'are',\n",
              " 'aren',\n",
              " \"aren't\",\n",
              " 'as',\n",
              " 'at',\n",
              " 'be',\n",
              " 'because',\n",
              " 'been',\n",
              " 'before',\n",
              " 'being',\n",
              " 'below',\n",
              " 'between',\n",
              " 'both',\n",
              " 'but',\n",
              " 'by',\n",
              " 'can',\n",
              " 'couldn',\n",
              " \"couldn't\",\n",
              " 'd',\n",
              " 'did',\n",
              " 'didn',\n",
              " \"didn't\",\n",
              " 'do',\n",
              " 'does',\n",
              " 'doesn',\n",
              " \"doesn't\",\n",
              " 'doing',\n",
              " 'don',\n",
              " \"don't\",\n",
              " 'down',\n",
              " 'during',\n",
              " 'each',\n",
              " 'few',\n",
              " 'for',\n",
              " 'from',\n",
              " 'further',\n",
              " 'had',\n",
              " 'hadn',\n",
              " \"hadn't\",\n",
              " 'has',\n",
              " 'hasn',\n",
              " \"hasn't\",\n",
              " 'have',\n",
              " 'haven',\n",
              " \"haven't\",\n",
              " 'having',\n",
              " 'he',\n",
              " \"he'd\",\n",
              " \"he'll\",\n",
              " 'her',\n",
              " 'here',\n",
              " 'hers',\n",
              " 'herself',\n",
              " \"he's\",\n",
              " 'him',\n",
              " 'himself',\n",
              " 'his',\n",
              " 'how',\n",
              " 'i',\n",
              " \"i'd\",\n",
              " 'if',\n",
              " \"i'll\",\n",
              " \"i'm\",\n",
              " 'in',\n",
              " 'into',\n",
              " 'is',\n",
              " 'isn',\n",
              " \"isn't\",\n",
              " 'it',\n",
              " \"it'd\",\n",
              " \"it'll\",\n",
              " \"it's\",\n",
              " 'its',\n",
              " 'itself',\n",
              " \"i've\",\n",
              " 'just',\n",
              " 'll',\n",
              " 'm',\n",
              " 'ma',\n",
              " 'me',\n",
              " 'mightn',\n",
              " \"mightn't\",\n",
              " 'more',\n",
              " 'most',\n",
              " 'mustn',\n",
              " \"mustn't\",\n",
              " 'my',\n",
              " 'myself',\n",
              " 'needn',\n",
              " \"needn't\",\n",
              " 'no',\n",
              " 'nor',\n",
              " 'not',\n",
              " 'now',\n",
              " 'o',\n",
              " 'of',\n",
              " 'off',\n",
              " 'on',\n",
              " 'once',\n",
              " 'only',\n",
              " 'or',\n",
              " 'other',\n",
              " 'our',\n",
              " 'ours',\n",
              " 'ourselves',\n",
              " 'out',\n",
              " 'over',\n",
              " 'own',\n",
              " 're',\n",
              " 's',\n",
              " 'same',\n",
              " 'shan',\n",
              " \"shan't\",\n",
              " 'she',\n",
              " \"she'd\",\n",
              " \"she'll\",\n",
              " \"she's\",\n",
              " 'should',\n",
              " 'shouldn',\n",
              " \"shouldn't\",\n",
              " \"should've\",\n",
              " 'so',\n",
              " 'some',\n",
              " 'such',\n",
              " 't',\n",
              " 'than',\n",
              " 'that',\n",
              " \"that'll\",\n",
              " 'the',\n",
              " 'their',\n",
              " 'theirs',\n",
              " 'them',\n",
              " 'themselves',\n",
              " 'then',\n",
              " 'there',\n",
              " 'these',\n",
              " 'they',\n",
              " \"they'd\",\n",
              " \"they'll\",\n",
              " \"they're\",\n",
              " \"they've\",\n",
              " 'this',\n",
              " 'those',\n",
              " 'through',\n",
              " 'to',\n",
              " 'too',\n",
              " 'under',\n",
              " 'until',\n",
              " 'up',\n",
              " 've',\n",
              " 'very',\n",
              " 'was',\n",
              " 'wasn',\n",
              " \"wasn't\",\n",
              " 'we',\n",
              " \"we'd\",\n",
              " \"we'll\",\n",
              " \"we're\",\n",
              " 'were',\n",
              " 'weren',\n",
              " \"weren't\",\n",
              " \"we've\",\n",
              " 'what',\n",
              " 'when',\n",
              " 'where',\n",
              " 'which',\n",
              " 'while',\n",
              " 'who',\n",
              " 'whom',\n",
              " 'why',\n",
              " 'will',\n",
              " 'with',\n",
              " 'won',\n",
              " \"won't\",\n",
              " 'wouldn',\n",
              " \"wouldn't\",\n",
              " 'y',\n",
              " 'you',\n",
              " \"you'd\",\n",
              " \"you'll\",\n",
              " 'your',\n",
              " \"you're\",\n",
              " 'yours',\n",
              " 'yourself',\n",
              " 'yourselves',\n",
              " \"you've\"]"
            ]
          },
          "metadata": {},
          "execution_count": 29
        }
      ]
    },
    {
      "cell_type": "code",
      "source": [
        "## lemmatization\n",
        "\n",
        "for i in corpus:\n",
        " words =  nltk.word_tokenize(i)\n",
        " for word in words:\n",
        "    if word not in set(stopwords.words('english')):\n",
        "      print(lemmatizer.lemmatize(word))"
      ],
      "metadata": {
        "colab": {
          "base_uri": "https://localhost:8080/"
        },
        "id": "YVdPJSkV74zL",
        "outputId": "d89c489b-ad76-47f8-925b-b401edd8a86e"
      },
      "execution_count": 32,
      "outputs": [
        {
          "output_type": "stream",
          "name": "stdout",
          "text": [
            "merck\n",
            "co\n",
            "inc\n",
            "american\n",
            "multinational\n",
            "pharmaceutical\n",
            "company\n",
            "headquartered\n",
            "rahway\n",
            "new\n",
            "jersey\n",
            "company\n",
            "business\n",
            "merck\n",
            "sharp\n",
            "dohme\n",
            "msd\n",
            "outside\n",
            "united\n",
            "state\n",
            "canada\n",
            "company\n",
            "ranked\n",
            "fourth\n",
            "list\n",
            "largest\n",
            "biomedical\n",
            "company\n",
            "revenue\n",
            "company\n",
            "revenue\n",
            "primarily\n",
            "cancer\n",
            "treatment\n",
            "vaccine\n",
            "animal\n",
            "health\n",
            "product\n",
            "company\n",
            "revenue\n",
            "billion\n",
            "came\n",
            "sale\n",
            "keytruda\n",
            "pembrolizumab\n",
            "pd\n",
            "inhibitor\n",
            "used\n",
            "treat\n",
            "various\n",
            "type\n",
            "cancer\n",
            "company\n",
            "revenue\n",
            "billion\n",
            "came\n",
            "sale\n",
            "gardasil\n",
            "hpv\n",
            "vaccine\n",
            "addition\n",
            "company\n",
            "revenue\n",
            "billion\n",
            "came\n",
            "sale\n",
            "animal\n",
            "health\n",
            "product\n",
            "company\n",
            "ranked\n",
            "th\n",
            "fortune\n",
            "th\n",
            "forbes\n",
            "global\n",
            "merck\n",
            "co\n",
            "established\n",
            "american\n",
            "affiliate\n",
            "merck\n",
            "group\n",
            "founded\n",
            "merck\n",
            "family\n",
            "company\n",
            "still\n",
            "trademark\n",
            "dispute\n",
            "several\n",
            "country\n",
            "right\n",
            "use\n",
            "th\n"
          ]
        }
      ]
    },
    {
      "cell_type": "code",
      "source": [
        "from sklearn.feature_extraction.text import CountVectorizer\n",
        "cv = CountVectorizer()\n"
      ],
      "metadata": {
        "id": "Ma6V8cNG8eBR"
      },
      "execution_count": 33,
      "outputs": []
    },
    {
      "cell_type": "code",
      "source": [
        "x = cv.fit_transform(corpus)"
      ],
      "metadata": {
        "id": "WGLta84A8yUr"
      },
      "execution_count": 39,
      "outputs": []
    },
    {
      "cell_type": "code",
      "source": [
        "cv.vocabulary_"
      ],
      "metadata": {
        "colab": {
          "base_uri": "https://localhost:8080/"
        },
        "id": "OZQeucDE84Zx",
        "outputId": "f0f63167-5cb2-4151-f6fe-3fb4430fffe4"
      },
      "execution_count": 35,
      "outputs": [
        {
          "output_type": "execute_result",
          "data": {
            "text/plain": [
              "{'merck': 44,\n",
              " 'co': 16,\n",
              " 'inc': 37,\n",
              " 'is': 39,\n",
              " 'an': 3,\n",
              " 'american': 2,\n",
              " 'multinational': 46,\n",
              " 'pharmaceutical': 55,\n",
              " 'company': 18,\n",
              " 'headquartered': 33,\n",
              " 'in': 36,\n",
              " 'rahway': 58,\n",
              " 'new': 47,\n",
              " 'jersey': 40,\n",
              " 'the': 69,\n",
              " 'does': 21,\n",
              " 'business': 10,\n",
              " 'as': 7,\n",
              " 'sharp': 65,\n",
              " 'dohme': 22,\n",
              " 'or': 50,\n",
              " 'msd': 45,\n",
              " 'outside': 51,\n",
              " 'united': 75,\n",
              " 'states': 66,\n",
              " 'and': 4,\n",
              " 'canada': 13,\n",
              " 'ranked': 59,\n",
              " 'fourth': 28,\n",
              " 'on': 49,\n",
              " 'list': 43,\n",
              " 'of': 48,\n",
              " 'largest': 42,\n",
              " 'biomedical': 9,\n",
              " 'companies': 17,\n",
              " 'by': 11,\n",
              " 'revenue': 60,\n",
              " 'revenues': 61,\n",
              " 'are': 6,\n",
              " 'primarily': 56,\n",
              " 'from': 29,\n",
              " 'cancer': 14,\n",
              " 'treatments': 73,\n",
              " 'vaccines': 79,\n",
              " 'animal': 5,\n",
              " 'health': 34,\n",
              " 'products': 57,\n",
              " 'billion': 8,\n",
              " 'came': 12,\n",
              " 'sales': 63,\n",
              " 'keytruda': 41,\n",
              " 'pembrolizumab': 54,\n",
              " 'pd': 53,\n",
              " 'inhibitor': 38,\n",
              " 'used': 77,\n",
              " 'to': 70,\n",
              " 'treat': 72,\n",
              " 'various': 80,\n",
              " 'types': 74,\n",
              " 'cancers': 15,\n",
              " 'gardasil': 30,\n",
              " 'hpv': 35,\n",
              " 'vaccine': 78,\n",
              " 'addition': 0,\n",
              " 'th': 68,\n",
              " 'fortune': 26,\n",
              " 'forbes': 25,\n",
              " 'global': 31,\n",
              " 'was': 81,\n",
              " 'established': 23,\n",
              " 'affiliate': 1,\n",
              " 'group': 32,\n",
              " 'founded': 27,\n",
              " 'family': 24,\n",
              " 'still': 67,\n",
              " 'trademark': 71,\n",
              " 'disputes': 20,\n",
              " 'several': 64,\n",
              " 'countries': 19,\n",
              " 'over': 52,\n",
              " 'right': 62,\n",
              " 'use': 76}"
            ]
          },
          "metadata": {},
          "execution_count": 35
        }
      ]
    },
    {
      "cell_type": "code",
      "source": [
        "corpus[0]"
      ],
      "metadata": {
        "colab": {
          "base_uri": "https://localhost:8080/",
          "height": 35
        },
        "id": "RmUTX-Wr9E6U",
        "outputId": "28c4fbc4-f861-472f-913a-6e5b85a2d3a0"
      },
      "execution_count": 36,
      "outputs": [
        {
          "output_type": "execute_result",
          "data": {
            "text/plain": [
              "'   merck   co   inc  is an american multinational pharmaceutical company headquartered in rahway  new jersey '"
            ],
            "application/vnd.google.colaboratory.intrinsic+json": {
              "type": "string"
            }
          },
          "metadata": {},
          "execution_count": 36
        }
      ]
    },
    {
      "cell_type": "code",
      "source": [
        "x[0].toarray()"
      ],
      "metadata": {
        "colab": {
          "base_uri": "https://localhost:8080/"
        },
        "id": "gZOsJ8rC9Jq2",
        "outputId": "9983971f-56ce-43e5-efb4-bf8edb5748a6"
      },
      "execution_count": 40,
      "outputs": [
        {
          "output_type": "execute_result",
          "data": {
            "text/plain": [
              "array([[0, 0, 1, 1, 0, 0, 0, 0, 0, 0, 0, 0, 0, 0, 0, 0, 1, 0, 1, 0, 0, 0,\n",
              "        0, 0, 0, 0, 0, 0, 0, 0, 0, 0, 0, 1, 0, 0, 1, 1, 0, 1, 1, 0, 0, 0,\n",
              "        1, 0, 1, 1, 0, 0, 0, 0, 0, 0, 0, 1, 0, 0, 1, 0, 0, 0, 0, 0, 0, 0,\n",
              "        0, 0, 0, 0, 0, 0, 0, 0, 0, 0, 0, 0, 0, 0, 0, 0]])"
            ]
          },
          "metadata": {},
          "execution_count": 40
        }
      ]
    }
  ],
  "metadata": {
    "kernelspec": {
      "display_name": "Python 3",
      "language": "python",
      "name": "python3"
    },
    "language_info": {
      "codemirror_mode": {
        "name": "ipython",
        "version": 3
      },
      "file_extension": ".py",
      "mimetype": "text/x-python",
      "name": "python",
      "nbconvert_exporter": "python",
      "pygments_lexer": "ipython3",
      "version": "3.7.0"
    },
    "colab": {
      "provenance": []
    }
  },
  "nbformat": 4,
  "nbformat_minor": 0
}