{
  "cells": [
    {
      "cell_type": "code",
      "source": [
        "!pip install nltk"
      ],
      "metadata": {
        "colab": {
          "base_uri": "https://localhost:8080/"
        },
        "id": "wsLkVH6hw4eD",
        "outputId": "5d8ce13a-a02f-43f3-d488-b56d5823285e"
      },
      "execution_count": 2,
      "outputs": [
        {
          "output_type": "stream",
          "name": "stdout",
          "text": [
            "Requirement already satisfied: nltk in /usr/local/lib/python3.12/dist-packages (3.9.1)\n",
            "Requirement already satisfied: click in /usr/local/lib/python3.12/dist-packages (from nltk) (8.2.1)\n",
            "Requirement already satisfied: joblib in /usr/local/lib/python3.12/dist-packages (from nltk) (1.5.2)\n",
            "Requirement already satisfied: regex>=2021.8.3 in /usr/local/lib/python3.12/dist-packages (from nltk) (2024.11.6)\n",
            "Requirement already satisfied: tqdm in /usr/local/lib/python3.12/dist-packages (from nltk) (4.67.1)\n"
          ]
        }
      ]
    },
    {
      "cell_type": "code",
      "source": [
        "paragraph='''\n",
        "\n",
        " Merck & Co., Inc. is an American multinational pharmaceutical company headquartered in Rahway, New Jersey. The company does business as Merck Sharp & Dohme or MSD outside the United States and Canada. The company is ranked fourth on the list of largest biomedical companies by revenue.\n",
        "\n",
        "The company's revenues are primarily from cancer treatments, vaccines, and animal health products. In 2024, 46% of the company's revenue, or $29.5 billion, came from sales of Keytruda (pembrolizumab), a PD-1 inhibitor used to treat various types of cancers, and 13% of the company's revenue, or $8.6 billion, came from sales of Gardasil, an HPV vaccine.[1] In addition, 9% of the company's revenue, or $5.8 billion, came from the sales of animal health products.[1]\n",
        "\n",
        "The company is ranked 65th on the Fortune 500[2] and 76th on the Forbes Global 2000.[3]\n",
        "\n",
        "In 1891, Merck & Co. was established as the American affiliate of Merck Group, founded by the Merck family, and the companies are still in trademark disputes in several countries over the right to use th\n",
        "\n",
        "\n",
        "'''"
      ],
      "metadata": {
        "id": "V7KXh1amyIsl"
      },
      "execution_count": 4,
      "outputs": []
    },
    {
      "cell_type": "code",
      "source": [
        "paragraph"
      ],
      "metadata": {
        "colab": {
          "base_uri": "https://localhost:8080/",
          "height": 261
        },
        "id": "FOJCe-HRzwmw",
        "outputId": "73449de6-4613-40a1-8990-7b6537d8d970"
      },
      "execution_count": 5,
      "outputs": [
        {
          "output_type": "execute_result",
          "data": {
            "text/plain": [
              "\"\\n\\n Merck & Co., Inc. is an American multinational pharmaceutical company headquartered in Rahway, New Jersey. The company does business as Merck Sharp & Dohme or MSD outside the United States and Canada. The company is ranked fourth on the list of largest biomedical companies by revenue.\\n\\nThe company's revenues are primarily from cancer treatments, vaccines, and animal health products. In 2024, 46% of the company's revenue, or $29.5 billion, came from sales of Keytruda (pembrolizumab), a PD-1 inhibitor used to treat various types of cancers, and 13% of the company's revenue, or $8.6 billion, came from sales of Gardasil, an HPV vaccine.[1] In addition, 9% of the company's revenue, or $5.8 billion, came from the sales of animal health products.[1]\\n\\nThe company is ranked 65th on the Fortune 500[2] and 76th on the Forbes Global 2000.[3]\\n\\nIn 1891, Merck & Co. was established as the American affiliate of Merck Group, founded by the Merck family, and the companies are still in trademark disputes in several countries over the right to use th\\n\\n\\n\""
            ],
            "application/vnd.google.colaboratory.intrinsic+json": {
              "type": "string"
            }
          },
          "metadata": {},
          "execution_count": 5
        }
      ]
    },
    {
      "cell_type": "code",
      "source": [
        "import nltk\n",
        "from nltk.stem import PorterStemmer\n",
        "from nltk.corpus import stopwords"
      ],
      "metadata": {
        "id": "PL6Itoxlz7NG"
      },
      "execution_count": 6,
      "outputs": []
    },
    {
      "cell_type": "code",
      "source": [
        "## tokenization -- convert paragraph-sentences-words\n",
        "nltk.download('punkt_tab')\n",
        "sentences = nltk.sent_tokenize(paragraph)"
      ],
      "metadata": {
        "colab": {
          "base_uri": "https://localhost:8080/"
        },
        "id": "hJpUYXRz0Poc",
        "outputId": "16cac180-a6f3-4005-c996-57a219a5eda7"
      },
      "execution_count": 8,
      "outputs": [
        {
          "output_type": "stream",
          "name": "stderr",
          "text": [
            "[nltk_data] Downloading package punkt_tab to /root/nltk_data...\n",
            "[nltk_data]   Unzipping tokenizers/punkt_tab.zip.\n"
          ]
        }
      ]
    },
    {
      "cell_type": "code",
      "source": [
        "sentences"
      ],
      "metadata": {
        "colab": {
          "base_uri": "https://localhost:8080/"
        },
        "id": "2yfq2TZq1NF4",
        "outputId": "f106ab3e-9091-439a-fe5b-e37a4c227403"
      },
      "execution_count": 9,
      "outputs": [
        {
          "output_type": "execute_result",
          "data": {
            "text/plain": [
              "['\\n\\n Merck & Co., Inc. is an American multinational pharmaceutical company headquartered in Rahway, New Jersey.',\n",
              " 'The company does business as Merck Sharp & Dohme or MSD outside the United States and Canada.',\n",
              " 'The company is ranked fourth on the list of largest biomedical companies by revenue.',\n",
              " \"The company's revenues are primarily from cancer treatments, vaccines, and animal health products.\",\n",
              " \"In 2024, 46% of the company's revenue, or $29.5 billion, came from sales of Keytruda (pembrolizumab), a PD-1 inhibitor used to treat various types of cancers, and 13% of the company's revenue, or $8.6 billion, came from sales of Gardasil, an HPV vaccine.\",\n",
              " \"[1] In addition, 9% of the company's revenue, or $5.8 billion, came from the sales of animal health products.\",\n",
              " '[1]\\n\\nThe company is ranked 65th on the Fortune 500[2] and 76th on the Forbes Global 2000.',\n",
              " '[3]\\n\\nIn 1891, Merck & Co. was established as the American affiliate of Merck Group, founded by the Merck family, and the companies are still in trademark disputes in several countries over the right to use th']"
            ]
          },
          "metadata": {},
          "execution_count": 9
        }
      ]
    },
    {
      "cell_type": "code",
      "source": [
        "sentences[0]"
      ],
      "metadata": {
        "colab": {
          "base_uri": "https://localhost:8080/",
          "height": 52
        },
        "id": "Z397HJUo1aoV",
        "outputId": "29c73017-43be-462a-f4ec-a6f29036ec6d"
      },
      "execution_count": 10,
      "outputs": [
        {
          "output_type": "execute_result",
          "data": {
            "text/plain": [
              "'\\n\\n Merck & Co., Inc. is an American multinational pharmaceutical company headquartered in Rahway, New Jersey.'"
            ],
            "application/vnd.google.colaboratory.intrinsic+json": {
              "type": "string"
            }
          },
          "metadata": {},
          "execution_count": 10
        }
      ]
    },
    {
      "cell_type": "code",
      "source": [
        "Stemmer = PorterStemmer()"
      ],
      "metadata": {
        "id": "XuLhyNAl1hAM"
      },
      "execution_count": 11,
      "outputs": []
    },
    {
      "cell_type": "code",
      "source": [
        "Stemmer.stem('thinking')"
      ],
      "metadata": {
        "colab": {
          "base_uri": "https://localhost:8080/",
          "height": 35
        },
        "id": "-LnxkyNg168y",
        "outputId": "746eeb8d-223a-4c57-adfd-6c3a524180ea"
      },
      "execution_count": 14,
      "outputs": [
        {
          "output_type": "execute_result",
          "data": {
            "text/plain": [
              "'think'"
            ],
            "application/vnd.google.colaboratory.intrinsic+json": {
              "type": "string"
            }
          },
          "metadata": {},
          "execution_count": 14
        }
      ]
    },
    {
      "cell_type": "code",
      "source": [
        "from nltk.stem import WordNetLemmatizer"
      ],
      "metadata": {
        "id": "F6McXz9n2XH0"
      },
      "execution_count": 15,
      "outputs": []
    },
    {
      "cell_type": "code",
      "source": [
        "lemmatizer = WordNetLemmatizer()"
      ],
      "metadata": {
        "id": "e66hlGjN2o2M"
      },
      "execution_count": 16,
      "outputs": []
    },
    {
      "cell_type": "code",
      "source": [
        "lemmatizer.lemmatize('bharat')"
      ],
      "metadata": {
        "colab": {
          "base_uri": "https://localhost:8080/",
          "height": 35
        },
        "id": "mMqtJhFO3GlM",
        "outputId": "7d2d5619-652f-4622-9a25-888348e9dcfa"
      },
      "execution_count": 20,
      "outputs": [
        {
          "output_type": "execute_result",
          "data": {
            "text/plain": [
              "'bharat'"
            ],
            "application/vnd.google.colaboratory.intrinsic+json": {
              "type": "string"
            }
          },
          "metadata": {},
          "execution_count": 20
        }
      ]
    },
    {
      "cell_type": "code",
      "source": [
        "import re"
      ],
      "metadata": {
        "id": "9kK98O5a4PPy"
      },
      "execution_count": 22,
      "outputs": []
    },
    {
      "cell_type": "code",
      "source": [
        "\n",
        "corpus = []\n",
        "for i in range(len(sentences)):\n",
        " review =  re.sub('[^a-zA-Z]',' ',sentences[i])\n",
        " review = review.lower()\n",
        " corpus.append(review)\n",
        "\n",
        "\n",
        ""
      ],
      "metadata": {
        "id": "ZiKEga0T3PLs"
      },
      "execution_count": 23,
      "outputs": []
    },
    {
      "cell_type": "code",
      "source": [
        "corpus"
      ],
      "metadata": {
        "colab": {
          "base_uri": "https://localhost:8080/"
        },
        "id": "N3JbFgi24wGv",
        "outputId": "2a3fd1ae-a8d7-4893-f952-b189f915dccb"
      },
      "execution_count": 24,
      "outputs": [
        {
          "output_type": "execute_result",
          "data": {
            "text/plain": [
              "['   merck   co   inc  is an american multinational pharmaceutical company headquartered in rahway  new jersey ',\n",
              " 'the company does business as merck sharp   dohme or msd outside the united states and canada ',\n",
              " 'the company is ranked fourth on the list of largest biomedical companies by revenue ',\n",
              " 'the company s revenues are primarily from cancer treatments  vaccines  and animal health products ',\n",
              " 'in           of the company s revenue  or       billion  came from sales of keytruda  pembrolizumab   a pd   inhibitor used to treat various types of cancers  and     of the company s revenue  or      billion  came from sales of gardasil  an hpv vaccine ',\n",
              " '    in addition     of the company s revenue  or      billion  came from the sales of animal health products ',\n",
              " '     the company is ranked   th on the fortune        and   th on the forbes global      ',\n",
              " '     in       merck   co  was established as the american affiliate of merck group  founded by the merck family  and the companies are still in trademark disputes in several countries over the right to use th']"
            ]
          },
          "metadata": {},
          "execution_count": 24
        }
      ]
    },
    {
      "cell_type": "code",
      "source": [
        "len(sentences)"
      ],
      "metadata": {
        "colab": {
          "base_uri": "https://localhost:8080/"
        },
        "id": "ymc2oE-x24gz",
        "outputId": "9bbf6672-74eb-45ff-a423-bc3f977b25b1"
      },
      "execution_count": 21,
      "outputs": [
        {
          "output_type": "execute_result",
          "data": {
            "text/plain": [
              "8"
            ]
          },
          "metadata": {},
          "execution_count": 21
        }
      ]
    },
    {
      "cell_type": "code",
      "source": [
        "## stemming\n",
        "\n",
        "for i in corpus:\n",
        " words =  nltk.word_tokenize(i)\n",
        " for word in words:\n",
        "    if word not in set(stopwords.words('english')):\n",
        "      print(Stemmer.stem(word))\n",
        ""
      ],
      "metadata": {
        "colab": {
          "base_uri": "https://localhost:8080/"
        },
        "id": "docWOUqn495T",
        "outputId": "10915157-6dec-49e8-fb65-4475ff1f585e"
      },
      "execution_count": 28,
      "outputs": [
        {
          "output_type": "stream",
          "name": "stdout",
          "text": [
            "merck\n",
            "co\n",
            "inc\n",
            "american\n",
            "multin\n",
            "pharmaceut\n",
            "compani\n",
            "headquart\n",
            "rahway\n",
            "new\n",
            "jersey\n",
            "compani\n",
            "busi\n",
            "merck\n",
            "sharp\n",
            "dohm\n",
            "msd\n",
            "outsid\n",
            "unit\n",
            "state\n",
            "canada\n",
            "compani\n",
            "rank\n",
            "fourth\n",
            "list\n",
            "largest\n",
            "biomed\n",
            "compani\n",
            "revenu\n",
            "compani\n",
            "revenu\n",
            "primarili\n",
            "cancer\n",
            "treatment\n",
            "vaccin\n",
            "anim\n",
            "health\n",
            "product\n",
            "compani\n",
            "revenu\n",
            "billion\n",
            "came\n",
            "sale\n",
            "keytruda\n",
            "pembrolizumab\n",
            "pd\n",
            "inhibitor\n",
            "use\n",
            "treat\n",
            "variou\n",
            "type\n",
            "cancer\n",
            "compani\n",
            "revenu\n",
            "billion\n",
            "came\n",
            "sale\n",
            "gardasil\n",
            "hpv\n",
            "vaccin\n",
            "addit\n",
            "compani\n",
            "revenu\n",
            "billion\n",
            "came\n",
            "sale\n",
            "anim\n",
            "health\n",
            "product\n",
            "compani\n",
            "rank\n",
            "th\n",
            "fortun\n",
            "th\n",
            "forb\n",
            "global\n",
            "merck\n",
            "co\n",
            "establish\n",
            "american\n",
            "affili\n",
            "merck\n",
            "group\n",
            "found\n",
            "merck\n",
            "famili\n",
            "compani\n",
            "still\n",
            "trademark\n",
            "disput\n",
            "sever\n",
            "countri\n",
            "right\n",
            "use\n",
            "th\n"
          ]
        }
      ]
    },
    {
      "cell_type": "code",
      "metadata": {
        "colab": {
          "base_uri": "https://localhost:8080/"
        },
        "id": "c32f3388",
        "outputId": "0a065713-7391-4dc0-9ce3-f5f26c425921"
      },
      "source": [
        "import nltk\n",
        "nltk.download('stopwords')"
      ],
      "execution_count": 27,
      "outputs": [
        {
          "output_type": "stream",
          "name": "stderr",
          "text": [
            "[nltk_data] Downloading package stopwords to /root/nltk_data...\n",
            "[nltk_data]   Unzipping corpora/stopwords.zip.\n"
          ]
        },
        {
          "output_type": "execute_result",
          "data": {
            "text/plain": [
              "True"
            ]
          },
          "metadata": {},
          "execution_count": 27
        }
      ]
    },
    {
      "cell_type": "code",
      "source": [
        "stopwords.words('english')"
      ],
      "metadata": {
        "colab": {
          "base_uri": "https://localhost:8080/"
        },
        "id": "Xx0rkp3p6DC5",
        "outputId": "7a345e8a-5c17-4814-8642-3482b47ff3a5"
      },
      "execution_count": 29,
      "outputs": [
        {
          "output_type": "execute_result",
          "data": {
            "text/plain": [
              "['a',\n",
              " 'about',\n",
              " 'above',\n",
              " 'after',\n",
              " 'again',\n",
              " 'against',\n",
              " 'ain',\n",
              " 'all',\n",
              " 'am',\n",
              " 'an',\n",
              " 'and',\n",
              " 'any',\n",
              " 'are',\n",
              " 'aren',\n",
              " \"aren't\",\n",
              " 'as',\n",
              " 'at',\n",
              " 'be',\n",
              " 'because',\n",
              " 'been',\n",
              " 'before',\n",
              " 'being',\n",
              " 'below',\n",
              " 'between',\n",
              " 'both',\n",
              " 'but',\n",
              " 'by',\n",
              " 'can',\n",
              " 'couldn',\n",
              " \"couldn't\",\n",
              " 'd',\n",
              " 'did',\n",
              " 'didn',\n",
              " \"didn't\",\n",
              " 'do',\n",
              " 'does',\n",
              " 'doesn',\n",
              " \"doesn't\",\n",
              " 'doing',\n",
              " 'don',\n",
              " \"don't\",\n",
              " 'down',\n",
              " 'during',\n",
              " 'each',\n",
              " 'few',\n",
              " 'for',\n",
              " 'from',\n",
              " 'further',\n",
              " 'had',\n",
              " 'hadn',\n",
              " \"hadn't\",\n",
              " 'has',\n",
              " 'hasn',\n",
              " \"hasn't\",\n",
              " 'have',\n",
              " 'haven',\n",
              " \"haven't\",\n",
              " 'having',\n",
              " 'he',\n",
              " \"he'd\",\n",
              " \"he'll\",\n",
              " 'her',\n",
              " 'here',\n",
              " 'hers',\n",
              " 'herself',\n",
              " \"he's\",\n",
              " 'him',\n",
              " 'himself',\n",
              " 'his',\n",
              " 'how',\n",
              " 'i',\n",
              " \"i'd\",\n",
              " 'if',\n",
              " \"i'll\",\n",
              " \"i'm\",\n",
              " 'in',\n",
              " 'into',\n",
              " 'is',\n",
              " 'isn',\n",
              " \"isn't\",\n",
              " 'it',\n",
              " \"it'd\",\n",
              " \"it'll\",\n",
              " \"it's\",\n",
              " 'its',\n",
              " 'itself',\n",
              " \"i've\",\n",
              " 'just',\n",
              " 'll',\n",
              " 'm',\n",
              " 'ma',\n",
              " 'me',\n",
              " 'mightn',\n",
              " \"mightn't\",\n",
              " 'more',\n",
              " 'most',\n",
              " 'mustn',\n",
              " \"mustn't\",\n",
              " 'my',\n",
              " 'myself',\n",
              " 'needn',\n",
              " \"needn't\",\n",
              " 'no',\n",
              " 'nor',\n",
              " 'not',\n",
              " 'now',\n",
              " 'o',\n",
              " 'of',\n",
              " 'off',\n",
              " 'on',\n",
              " 'once',\n",
              " 'only',\n",
              " 'or',\n",
              " 'other',\n",
              " 'our',\n",
              " 'ours',\n",
              " 'ourselves',\n",
              " 'out',\n",
              " 'over',\n",
              " 'own',\n",
              " 're',\n",
              " 's',\n",
              " 'same',\n",
              " 'shan',\n",
              " \"shan't\",\n",
              " 'she',\n",
              " \"she'd\",\n",
              " \"she'll\",\n",
              " \"she's\",\n",
              " 'should',\n",
              " 'shouldn',\n",
              " \"shouldn't\",\n",
              " \"should've\",\n",
              " 'so',\n",
              " 'some',\n",
              " 'such',\n",
              " 't',\n",
              " 'than',\n",
              " 'that',\n",
              " \"that'll\",\n",
              " 'the',\n",
              " 'their',\n",
              " 'theirs',\n",
              " 'them',\n",
              " 'themselves',\n",
              " 'then',\n",
              " 'there',\n",
              " 'these',\n",
              " 'they',\n",
              " \"they'd\",\n",
              " \"they'll\",\n",
              " \"they're\",\n",
              " \"they've\",\n",
              " 'this',\n",
              " 'those',\n",
              " 'through',\n",
              " 'to',\n",
              " 'too',\n",
              " 'under',\n",
              " 'until',\n",
              " 'up',\n",
              " 've',\n",
              " 'very',\n",
              " 'was',\n",
              " 'wasn',\n",
              " \"wasn't\",\n",
              " 'we',\n",
              " \"we'd\",\n",
              " \"we'll\",\n",
              " \"we're\",\n",
              " 'were',\n",
              " 'weren',\n",
              " \"weren't\",\n",
              " \"we've\",\n",
              " 'what',\n",
              " 'when',\n",
              " 'where',\n",
              " 'which',\n",
              " 'while',\n",
              " 'who',\n",
              " 'whom',\n",
              " 'why',\n",
              " 'will',\n",
              " 'with',\n",
              " 'won',\n",
              " \"won't\",\n",
              " 'wouldn',\n",
              " \"wouldn't\",\n",
              " 'y',\n",
              " 'you',\n",
              " \"you'd\",\n",
              " \"you'll\",\n",
              " 'your',\n",
              " \"you're\",\n",
              " 'yours',\n",
              " 'yourself',\n",
              " 'yourselves',\n",
              " \"you've\"]"
            ]
          },
          "metadata": {},
          "execution_count": 29
        }
      ]
    },
    {
      "cell_type": "code",
      "source": [
        "## lemmatization\n",
        "\n",
        "for i in corpus:\n",
        " words =  nltk.word_tokenize(i)\n",
        " for word in words:\n",
        "    if word not in set(stopwords.words('english')):\n",
        "      print(lemmatizer.lemmatize(word))"
      ],
      "metadata": {
        "colab": {
          "base_uri": "https://localhost:8080/"
        },
        "id": "YVdPJSkV74zL",
        "outputId": "d89c489b-ad76-47f8-925b-b401edd8a86e"
      },
      "execution_count": 32,
      "outputs": [
        {
          "output_type": "stream",
          "name": "stdout",
          "text": [
            "merck\n",
            "co\n",
            "inc\n",
            "american\n",
            "multinational\n",
            "pharmaceutical\n",
            "company\n",
            "headquartered\n",
            "rahway\n",
            "new\n",
            "jersey\n",
            "company\n",
            "business\n",
            "merck\n",
            "sharp\n",
            "dohme\n",
            "msd\n",
            "outside\n",
            "united\n",
            "state\n",
            "canada\n",
            "company\n",
            "ranked\n",
            "fourth\n",
            "list\n",
            "largest\n",
            "biomedical\n",
            "company\n",
            "revenue\n",
            "company\n",
            "revenue\n",
            "primarily\n",
            "cancer\n",
            "treatment\n",
            "vaccine\n",
            "animal\n",
            "health\n",
            "product\n",
            "company\n",
            "revenue\n",
            "billion\n",
            "came\n",
            "sale\n",
            "keytruda\n",
            "pembrolizumab\n",
            "pd\n",
            "inhibitor\n",
            "used\n",
            "treat\n",
            "various\n",
            "type\n",
            "cancer\n",
            "company\n",
            "revenue\n",
            "billion\n",
            "came\n",
            "sale\n",
            "gardasil\n",
            "hpv\n",
            "vaccine\n",
            "addition\n",
            "company\n",
            "revenue\n",
            "billion\n",
            "came\n",
            "sale\n",
            "animal\n",
            "health\n",
            "product\n",
            "company\n",
            "ranked\n",
            "th\n",
            "fortune\n",
            "th\n",
            "forbes\n",
            "global\n",
            "merck\n",
            "co\n",
            "established\n",
            "american\n",
            "affiliate\n",
            "merck\n",
            "group\n",
            "founded\n",
            "merck\n",
            "family\n",
            "company\n",
            "still\n",
            "trademark\n",
            "dispute\n",
            "several\n",
            "country\n",
            "right\n",
            "use\n",
            "th\n"
          ]
        }
      ]
    },
    {
      "cell_type": "code",
      "source": [
        "## Bag of words\n",
        "\n",
        "from sklearn.feature_extraction.text import CountVectorizer\n",
        "cv = CountVectorizer(ngram_range=(2,3))\n"
      ],
      "metadata": {
        "id": "Ma6V8cNG8eBR"
      },
      "execution_count": 41,
      "outputs": []
    },
    {
      "cell_type": "code",
      "source": [
        "x = cv.fit_transform(corpus)"
      ],
      "metadata": {
        "id": "WGLta84A8yUr"
      },
      "execution_count": 42,
      "outputs": []
    },
    {
      "cell_type": "code",
      "source": [
        "cv.vocabulary_"
      ],
      "metadata": {
        "colab": {
          "base_uri": "https://localhost:8080/"
        },
        "id": "OZQeucDE84Zx",
        "outputId": "000ed525-53f0-460e-89c1-ace495810a44"
      },
      "execution_count": 43,
      "outputs": [
        {
          "output_type": "execute_result",
          "data": {
            "text/plain": [
              "{'merck co': 125,\n",
              " 'co inc': 47,\n",
              " 'inc is': 110,\n",
              " 'is an': 114,\n",
              " 'an american': 8,\n",
              " 'american multinational': 6,\n",
              " 'multinational pharmaceutical': 136,\n",
              " 'pharmaceutical company': 169,\n",
              " 'company headquartered': 57,\n",
              " 'headquartered in': 94,\n",
              " 'in rahway': 104,\n",
              " 'rahway new': 173,\n",
              " 'new jersey': 138,\n",
              " 'merck co inc': 126,\n",
              " 'co inc is': 48,\n",
              " 'inc is an': 111,\n",
              " 'is an american': 115,\n",
              " 'an american multinational': 9,\n",
              " 'american multinational pharmaceutical': 7,\n",
              " 'multinational pharmaceutical company': 137,\n",
              " 'pharmaceutical company headquartered': 170,\n",
              " 'company headquartered in': 58,\n",
              " 'headquartered in rahway': 95,\n",
              " 'in rahway new': 105,\n",
              " 'rahway new jersey': 174,\n",
              " 'the company': 203,\n",
              " 'company does': 55,\n",
              " 'does business': 69,\n",
              " 'business as': 35,\n",
              " 'as merck': 27,\n",
              " 'merck sharp': 132,\n",
              " 'sharp dohme': 191,\n",
              " 'dohme or': 71,\n",
              " 'or msd': 159,\n",
              " 'msd outside': 134,\n",
              " 'outside the': 161,\n",
              " 'the united': 220,\n",
              " 'united states': 234,\n",
              " 'states and': 193,\n",
              " 'and canada': 14,\n",
              " 'the company does': 204,\n",
              " 'company does business': 56,\n",
              " 'does business as': 70,\n",
              " 'business as merck': 36,\n",
              " 'as merck sharp': 28,\n",
              " 'merck sharp dohme': 133,\n",
              " 'sharp dohme or': 192,\n",
              " 'dohme or msd': 72,\n",
              " 'or msd outside': 160,\n",
              " 'msd outside the': 135,\n",
              " 'outside the united': 162,\n",
              " 'the united states': 221,\n",
              " 'united states and': 235,\n",
              " 'states and canada': 194,\n",
              " 'company is': 59,\n",
              " 'is ranked': 116,\n",
              " 'ranked fourth': 175,\n",
              " 'fourth on': 82,\n",
              " 'on the': 153,\n",
              " 'the list': 212,\n",
              " 'list of': 123,\n",
              " 'of largest': 147,\n",
              " 'largest biomedical': 121,\n",
              " 'biomedical companies': 33,\n",
              " 'companies by': 53,\n",
              " 'by revenue': 37,\n",
              " 'the company is': 205,\n",
              " 'company is ranked': 60,\n",
              " 'is ranked fourth': 117,\n",
              " 'ranked fourth on': 176,\n",
              " 'fourth on the': 83,\n",
              " 'on the list': 156,\n",
              " 'the list of': 213,\n",
              " 'list of largest': 124,\n",
              " 'of largest biomedical': 148,\n",
              " 'largest biomedical companies': 122,\n",
              " 'biomedical companies by': 34,\n",
              " 'companies by revenue': 54,\n",
              " 'company revenues': 63,\n",
              " 'revenues are': 181,\n",
              " 'are primarily': 23,\n",
              " 'primarily from': 171,\n",
              " 'from cancer': 84,\n",
              " 'cancer treatments': 43,\n",
              " 'treatments vaccines': 230,\n",
              " 'vaccines and': 239,\n",
              " 'and animal': 12,\n",
              " 'animal health': 21,\n",
              " 'health products': 96,\n",
              " 'the company revenues': 207,\n",
              " 'company revenues are': 64,\n",
              " 'revenues are primarily': 182,\n",
              " 'are primarily from': 24,\n",
              " 'primarily from cancer': 172,\n",
              " 'from cancer treatments': 85,\n",
              " 'cancer treatments vaccines': 44,\n",
              " 'treatments vaccines and': 231,\n",
              " 'vaccines and animal': 240,\n",
              " 'and animal health': 13,\n",
              " 'animal health products': 22,\n",
              " 'in of': 102,\n",
              " 'of the': 151,\n",
              " 'company revenue': 61,\n",
              " 'revenue or': 179,\n",
              " 'or billion': 157,\n",
              " 'billion came': 31,\n",
              " 'came from': 40,\n",
              " 'from sales': 86,\n",
              " 'sales of': 185,\n",
              " 'of keytruda': 145,\n",
              " 'keytruda pembrolizumab': 119,\n",
              " 'pembrolizumab pd': 167,\n",
              " 'pd inhibitor': 165,\n",
              " 'inhibitor used': 112,\n",
              " 'used to': 237,\n",
              " 'to treat': 222,\n",
              " 'treat various': 228,\n",
              " 'various types': 241,\n",
              " 'types of': 232,\n",
              " 'of cancers': 141,\n",
              " 'cancers and': 45,\n",
              " 'and of': 15,\n",
              " 'of gardasil': 143,\n",
              " 'gardasil an': 90,\n",
              " 'an hpv': 10,\n",
              " 'hpv vaccine': 97,\n",
              " 'in of the': 103,\n",
              " 'of the company': 152,\n",
              " 'the company revenue': 206,\n",
              " 'company revenue or': 62,\n",
              " 'revenue or billion': 180,\n",
              " 'or billion came': 158,\n",
              " 'billion came from': 32,\n",
              " 'came from sales': 41,\n",
              " 'from sales of': 87,\n",
              " 'sales of keytruda': 188,\n",
              " 'of keytruda pembrolizumab': 146,\n",
              " 'keytruda pembrolizumab pd': 120,\n",
              " 'pembrolizumab pd inhibitor': 168,\n",
              " 'pd inhibitor used': 166,\n",
              " 'inhibitor used to': 113,\n",
              " 'used to treat': 238,\n",
              " 'to treat various': 223,\n",
              " 'treat various types': 229,\n",
              " 'various types of': 242,\n",
              " 'types of cancers': 233,\n",
              " 'of cancers and': 142,\n",
              " 'cancers and of': 46,\n",
              " 'and of the': 16,\n",
              " 'sales of gardasil': 187,\n",
              " 'of gardasil an': 144,\n",
              " 'gardasil an hpv': 91,\n",
              " 'an hpv vaccine': 11,\n",
              " 'in addition': 98,\n",
              " 'addition of': 0,\n",
              " 'from the': 88,\n",
              " 'the sales': 218,\n",
              " 'of animal': 139,\n",
              " 'in addition of': 99,\n",
              " 'addition of the': 1,\n",
              " 'came from the': 42,\n",
              " 'from the sales': 89,\n",
              " 'the sales of': 219,\n",
              " 'sales of animal': 186,\n",
              " 'of animal health': 140,\n",
              " 'ranked th': 177,\n",
              " 'th on': 197,\n",
              " 'the fortune': 210,\n",
              " 'fortune and': 78,\n",
              " 'and th': 17,\n",
              " 'the forbes': 208,\n",
              " 'forbes global': 77,\n",
              " 'is ranked th': 118,\n",
              " 'ranked th on': 178,\n",
              " 'th on the': 198,\n",
              " 'on the fortune': 155,\n",
              " 'the fortune and': 211,\n",
              " 'fortune and th': 79,\n",
              " 'and th on': 18,\n",
              " 'on the forbes': 154,\n",
              " 'the forbes global': 209,\n",
              " 'in merck': 100,\n",
              " 'co was': 49,\n",
              " 'was established': 243,\n",
              " 'established as': 73,\n",
              " 'as the': 29,\n",
              " 'the american': 199,\n",
              " 'american affiliate': 4,\n",
              " 'affiliate of': 2,\n",
              " 'of merck': 149,\n",
              " 'merck group': 130,\n",
              " 'group founded': 92,\n",
              " 'founded by': 80,\n",
              " 'by the': 38,\n",
              " 'the merck': 214,\n",
              " 'merck family': 128,\n",
              " 'family and': 75,\n",
              " 'and the': 19,\n",
              " 'the companies': 201,\n",
              " 'companies are': 51,\n",
              " 'are still': 25,\n",
              " 'still in': 195,\n",
              " 'in trademark': 108,\n",
              " 'trademark disputes': 226,\n",
              " 'disputes in': 67,\n",
              " 'in several': 106,\n",
              " 'several countries': 189,\n",
              " 'countries over': 65,\n",
              " 'over the': 163,\n",
              " 'the right': 216,\n",
              " 'right to': 183,\n",
              " 'to use': 224,\n",
              " 'use th': 236,\n",
              " 'in merck co': 101,\n",
              " 'merck co was': 127,\n",
              " 'co was established': 50,\n",
              " 'was established as': 244,\n",
              " 'established as the': 74,\n",
              " 'as the american': 30,\n",
              " 'the american affiliate': 200,\n",
              " 'american affiliate of': 5,\n",
              " 'affiliate of merck': 3,\n",
              " 'of merck group': 150,\n",
              " 'merck group founded': 131,\n",
              " 'group founded by': 93,\n",
              " 'founded by the': 81,\n",
              " 'by the merck': 39,\n",
              " 'the merck family': 215,\n",
              " 'merck family and': 129,\n",
              " 'family and the': 76,\n",
              " 'and the companies': 20,\n",
              " 'the companies are': 202,\n",
              " 'companies are still': 52,\n",
              " 'are still in': 26,\n",
              " 'still in trademark': 196,\n",
              " 'in trademark disputes': 109,\n",
              " 'trademark disputes in': 227,\n",
              " 'disputes in several': 68,\n",
              " 'in several countries': 107,\n",
              " 'several countries over': 190,\n",
              " 'countries over the': 66,\n",
              " 'over the right': 164,\n",
              " 'the right to': 217,\n",
              " 'right to use': 184,\n",
              " 'to use th': 225}"
            ]
          },
          "metadata": {},
          "execution_count": 43
        }
      ]
    },
    {
      "cell_type": "code",
      "source": [
        "corpus[0]"
      ],
      "metadata": {
        "colab": {
          "base_uri": "https://localhost:8080/",
          "height": 52
        },
        "id": "RmUTX-Wr9E6U",
        "outputId": "bafc8793-530e-408e-e2ba-e34143a3a6a3"
      },
      "execution_count": 44,
      "outputs": [
        {
          "output_type": "execute_result",
          "data": {
            "text/plain": [
              "'   merck   co   inc  is an american multinational pharmaceutical company headquartered in rahway  new jersey '"
            ],
            "application/vnd.google.colaboratory.intrinsic+json": {
              "type": "string"
            }
          },
          "metadata": {},
          "execution_count": 44
        }
      ]
    },
    {
      "cell_type": "code",
      "source": [
        "x[0].toarray()"
      ],
      "metadata": {
        "colab": {
          "base_uri": "https://localhost:8080/"
        },
        "id": "gZOsJ8rC9Jq2",
        "outputId": "271526f6-084a-4185-cd78-9d2fb043b647"
      },
      "execution_count": 45,
      "outputs": [
        {
          "output_type": "execute_result",
          "data": {
            "text/plain": [
              "array([[0, 0, 0, 0, 0, 0, 1, 1, 1, 1, 0, 0, 0, 0, 0, 0, 0, 0, 0, 0, 0, 0,\n",
              "        0, 0, 0, 0, 0, 0, 0, 0, 0, 0, 0, 0, 0, 0, 0, 0, 0, 0, 0, 0, 0, 0,\n",
              "        0, 0, 0, 1, 1, 0, 0, 0, 0, 0, 0, 0, 0, 1, 1, 0, 0, 0, 0, 0, 0, 0,\n",
              "        0, 0, 0, 0, 0, 0, 0, 0, 0, 0, 0, 0, 0, 0, 0, 0, 0, 0, 0, 0, 0, 0,\n",
              "        0, 0, 0, 0, 0, 0, 1, 1, 0, 0, 0, 0, 0, 0, 0, 0, 1, 1, 0, 0, 0, 0,\n",
              "        1, 1, 0, 0, 1, 1, 0, 0, 0, 0, 0, 0, 0, 0, 0, 1, 1, 0, 0, 0, 0, 0,\n",
              "        0, 0, 0, 0, 1, 1, 1, 0, 0, 0, 0, 0, 0, 0, 0, 0, 0, 0, 0, 0, 0, 0,\n",
              "        0, 0, 0, 0, 0, 0, 0, 0, 0, 0, 0, 0, 0, 0, 0, 1, 1, 0, 0, 1, 1, 0,\n",
              "        0, 0, 0, 0, 0, 0, 0, 0, 0, 0, 0, 0, 0, 0, 0, 0, 0, 0, 0, 0, 0, 0,\n",
              "        0, 0, 0, 0, 0, 0, 0, 0, 0, 0, 0, 0, 0, 0, 0, 0, 0, 0, 0, 0, 0, 0,\n",
              "        0, 0, 0, 0, 0, 0, 0, 0, 0, 0, 0, 0, 0, 0, 0, 0, 0, 0, 0, 0, 0, 0,\n",
              "        0, 0, 0]])"
            ]
          },
          "metadata": {},
          "execution_count": 45
        }
      ]
    },
    {
      "cell_type": "code",
      "source": [
        "## TFIDF\n",
        "\n",
        "from sklearn.feature_extraction.text import TfidfVectorizer\n",
        "cv = TfidfVectorizer(ngram_range=(3,3))\n",
        "x = cv.fit_transform(corpus)"
      ],
      "metadata": {
        "id": "iDQhoKjtqQ1s"
      },
      "execution_count": 48,
      "outputs": []
    },
    {
      "cell_type": "code",
      "source": [
        "x[0].toarray()"
      ],
      "metadata": {
        "id": "vYaJNhDHtN7b",
        "outputId": "f6e5166c-dada-4644-e94c-f728d5956f35",
        "colab": {
          "base_uri": "https://localhost:8080/"
        }
      },
      "execution_count": 49,
      "outputs": [
        {
          "output_type": "execute_result",
          "data": {
            "text/plain": [
              "array([[0.        , 0.        , 0.        , 0.28867513, 0.28867513,\n",
              "        0.        , 0.        , 0.        , 0.        , 0.        ,\n",
              "        0.        , 0.        , 0.        , 0.        , 0.        ,\n",
              "        0.        , 0.        , 0.        , 0.        , 0.        ,\n",
              "        0.        , 0.        , 0.        , 0.28867513, 0.        ,\n",
              "        0.        , 0.        , 0.        , 0.28867513, 0.        ,\n",
              "        0.        , 0.        , 0.        , 0.        , 0.        ,\n",
              "        0.        , 0.        , 0.        , 0.        , 0.        ,\n",
              "        0.        , 0.        , 0.        , 0.        , 0.        ,\n",
              "        0.        , 0.28867513, 0.        , 0.        , 0.        ,\n",
              "        0.28867513, 0.        , 0.        , 0.28867513, 0.        ,\n",
              "        0.28867513, 0.        , 0.        , 0.        , 0.        ,\n",
              "        0.        , 0.28867513, 0.        , 0.        , 0.        ,\n",
              "        0.        , 0.        , 0.28867513, 0.        , 0.        ,\n",
              "        0.        , 0.        , 0.        , 0.        , 0.        ,\n",
              "        0.        , 0.        , 0.        , 0.        , 0.        ,\n",
              "        0.        , 0.        , 0.        , 0.        , 0.28867513,\n",
              "        0.        , 0.28867513, 0.        , 0.        , 0.        ,\n",
              "        0.        , 0.        , 0.        , 0.        , 0.        ,\n",
              "        0.        , 0.        , 0.        , 0.        , 0.        ,\n",
              "        0.        , 0.        , 0.        , 0.        , 0.        ,\n",
              "        0.        , 0.        , 0.        , 0.        , 0.        ,\n",
              "        0.        , 0.        , 0.        , 0.        , 0.        ,\n",
              "        0.        , 0.        , 0.        , 0.        , 0.        ,\n",
              "        0.        , 0.        , 0.        , 0.        ]])"
            ]
          },
          "metadata": {},
          "execution_count": 49
        }
      ]
    }
  ],
  "metadata": {
    "kernelspec": {
      "display_name": "Python 3",
      "language": "python",
      "name": "python3"
    },
    "language_info": {
      "codemirror_mode": {
        "name": "ipython",
        "version": 3
      },
      "file_extension": ".py",
      "mimetype": "text/x-python",
      "name": "python",
      "nbconvert_exporter": "python",
      "pygments_lexer": "ipython3",
      "version": "3.7.0"
    },
    "colab": {
      "provenance": []
    }
  },
  "nbformat": 4,
  "nbformat_minor": 0
}